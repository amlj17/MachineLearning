{
  "nbformat": 4,
  "nbformat_minor": 0,
  "metadata": {
    "colab": {
      "provenance": []
    },
    "kernelspec": {
      "name": "python3",
      "display_name": "Python 3"
    },
    "language_info": {
      "name": "python"
    }
  },
  "cells": [
    {
      "cell_type": "code",
      "execution_count": 28,
      "metadata": {
        "id": "rUBPhvY1G_fI"
      },
      "outputs": [],
      "source": [
        "import numpy as np\n",
        "import pandas as pd\n",
        "import matplotlib.pyplot as plt\n",
        "from sklearn.datasets import make_blobs\n",
        "from sklearn.cluster import KMeans\n",
        "from sklearn import datasets\n",
        "from sklearn.model_selection import train_test_split\n",
        "from sklearn.linear_model import LogisticRegression\n",
        "from sklearn import preprocessing\n",
        "from sklearn.metrics import accuracy_score, classification_report, confusion_matrix"
      ]
    },
    {
      "cell_type": "markdown",
      "source": [
        "CREAR PUNTOS"
      ],
      "metadata": {
        "id": "DG6j2q1MJMpt"
      }
    },
    {
      "cell_type": "code",
      "source": [
        "X, y = make_blobs(n_samples=500, centers=4, cluster_std=0.70, random_state=1)"
      ],
      "metadata": {
        "id": "VYHlFwWbIzt5"
      },
      "execution_count": 4,
      "outputs": []
    },
    {
      "cell_type": "markdown",
      "source": [
        "Los puntos con coordenadas"
      ],
      "metadata": {
        "id": "OflRtLSzJskN"
      }
    },
    {
      "cell_type": "code",
      "source": [
        "print(X[:5])"
      ],
      "metadata": {
        "colab": {
          "base_uri": "https://localhost:8080/"
        },
        "id": "TnKBmUo2JLq6",
        "outputId": "e67a50bb-3772-4ff7-be10-04dac1807a30"
      },
      "execution_count": 5,
      "outputs": [
        {
          "output_type": "stream",
          "name": "stdout",
          "text": [
            "[[-6.96573381 -9.91464081]\n",
            " [-8.16089889 -7.44355238]\n",
            " [-9.74065023 -3.09031911]\n",
            " [-2.11240159  5.03753069]\n",
            " [-7.18147629 -3.03676107]]\n"
          ]
        }
      ]
    },
    {
      "cell_type": "markdown",
      "source": [
        "A que cluster pertenecen"
      ],
      "metadata": {
        "id": "f8iuSFg8JpTe"
      }
    },
    {
      "cell_type": "code",
      "source": [
        "print(y[:5])"
      ],
      "metadata": {
        "colab": {
          "base_uri": "https://localhost:8080/"
        },
        "id": "JfLMThCtJiMj",
        "outputId": "43e7b9e9-00b7-450f-d2ce-46add4662f7a"
      },
      "execution_count": 6,
      "outputs": [
        {
          "output_type": "stream",
          "name": "stdout",
          "text": [
            "[2 2 1 0 3]\n"
          ]
        }
      ]
    },
    {
      "cell_type": "code",
      "source": [
        "plt.scatter(X[:,0],X[:,1])"
      ],
      "metadata": {
        "colab": {
          "base_uri": "https://localhost:8080/",
          "height": 282
        },
        "id": "OMoPSHz8J5G8",
        "outputId": "8665fbe9-3d9c-4585-e91b-679bf74506ae"
      },
      "execution_count": 7,
      "outputs": [
        {
          "output_type": "execute_result",
          "data": {
            "text/plain": [
              "<matplotlib.collections.PathCollection at 0x7f1ca01a6d50>"
            ]
          },
          "metadata": {},
          "execution_count": 7
        },
        {
          "output_type": "display_data",
          "data": {
            "text/plain": [
              "<Figure size 432x288 with 1 Axes>"
            ],
            "image/png": "[encoded data removed]"
          },
          "metadata": {
            "needs_background": "light"
          }
        }
      ]
    },
    {
      "cell_type": "markdown",
      "source": [
        "Método del codo"
      ],
      "metadata": {
        "id": "TSytndIKKMF9"
      }
    },
    {
      "cell_type": "code",
      "source": [
        "wcss = []\n",
        "for i in range(1, 11):\n",
        "  kmeans = KMeans(n_clusters = i, init='k-means++', max_iter = 300, n_init = 10, random_state = 0)\n",
        "  kmeans.fit(X)\n",
        "  wcss.append(kmeans.inertia_)"
      ],
      "metadata": {
        "id": "K5NJuNfVKOSm"
      },
      "execution_count": 9,
      "outputs": []
    },
    {
      "cell_type": "code",
      "source": [
        "plt.plot(range(1,11), wcss)\n",
        "plt.title(\"Elbow Method\")\n",
        "plt.xlabel(\"# de clusters\")\n",
        "plt.ylabel(\"WCSS\")\n",
        "plt.show()"
      ],
      "metadata": {
        "colab": {
          "base_uri": "https://localhost:8080/",
          "height": 295
        },
        "id": "AA2RkhtJK0gw",
        "outputId": "a43d5610-2fc5-4458-9f1c-23e8063ba992"
      },
      "execution_count": 10,
      "outputs": [
        {
          "output_type": "display_data",
          "data": {
            "text/plain": [
              "<Figure size 432x288 with 1 Axes>"
            ],
            "image/png": "[encoded data removed]"
          },
          "metadata": {
            "needs_background": "light"
          }
        }
      ]
    },
    {
      "cell_type": "code",
      "source": [
        "kmeans = KMeans(n_clusters = 4, init='k-means++', max_iter = 300, n_init = 10, random_state = 0)\n",
        "pred_y = kmeans.fit_predict(X)"
      ],
      "metadata": {
        "id": "OZ29HPR3L-Kq"
      },
      "execution_count": 11,
      "outputs": []
    },
    {
      "cell_type": "code",
      "source": [
        "pred_y"
      ],
      "metadata": {
        "colab": {
          "base_uri": "https://localhost:8080/"
        },
        "id": "zy8LD9dDMNxs",
        "outputId": "1d0f1204-9337-4e86-a05e-14e387907590"
      },
      "execution_count": 12,
      "outputs": [
        {
          "output_type": "execute_result",
          "data": {
            "text/plain": [
              "array([2, 2, 3, 1, 0, 1, 0, 0, 3, 0, 2, 2, 0, 1, 0, 2, 3, 2, 1, 0, 3, 3,\n",
              "       0, 1, 0, 0, 1, 1, 3, 0, 2, 1, 0, 2, 0, 2, 3, 3, 2, 3, 0, 3, 1, 0,\n",
              "       0, 2, 3, 0, 1, 1, 1, 3, 3, 0, 2, 3, 3, 3, 3, 0, 1, 1, 3, 0, 1, 0,\n",
              "       2, 0, 3, 3, 2, 3, 0, 2, 0, 0, 2, 0, 0, 3, 1, 1, 3, 1, 1, 3, 3, 1,\n",
              "       3, 3, 1, 2, 3, 0, 1, 2, 2, 0, 2, 1, 1, 2, 1, 3, 1, 0, 0, 1, 1, 3,\n",
              "       0, 2, 1, 3, 1, 3, 1, 0, 1, 0, 3, 2, 2, 3, 0, 3, 1, 2, 2, 0, 1, 3,\n",
              "       3, 3, 3, 2, 1, 0, 1, 1, 0, 2, 0, 1, 1, 1, 0, 0, 2, 2, 3, 3, 1, 2,\n",
              "       1, 3, 3, 3, 3, 3, 3, 3, 3, 3, 1, 2, 2, 2, 0, 1, 2, 3, 0, 2, 1, 3,\n",
              "       3, 3, 3, 2, 0, 3, 1, 2, 2, 3, 0, 2, 2, 0, 1, 1, 2, 2, 0, 1, 0, 2,\n",
              "       2, 1, 2, 3, 1, 0, 0, 2, 0, 3, 2, 0, 3, 0, 3, 2, 0, 0, 0, 1, 3, 1,\n",
              "       0, 2, 3, 0, 3, 3, 3, 1, 3, 1, 2, 3, 2, 3, 1, 1, 3, 2, 1, 2, 0, 3,\n",
              "       2, 2, 2, 2, 0, 3, 2, 3, 0, 1, 1, 0, 0, 1, 3, 0, 3, 1, 0, 1, 3, 3,\n",
              "       1, 0, 2, 2, 3, 3, 3, 0, 1, 1, 0, 1, 3, 2, 1, 2, 1, 2, 2, 1, 2, 1,\n",
              "       1, 0, 3, 3, 3, 0, 0, 0, 2, 1, 2, 3, 2, 0, 3, 0, 2, 3, 2, 2, 3, 2,\n",
              "       2, 3, 1, 2, 0, 0, 1, 1, 3, 2, 1, 1, 0, 2, 1, 1, 0, 3, 1, 3, 0, 2,\n",
              "       2, 1, 3, 2, 0, 1, 1, 0, 0, 0, 2, 0, 1, 1, 3, 1, 1, 1, 1, 2, 2, 0,\n",
              "       1, 3, 0, 2, 1, 3, 1, 0, 1, 3, 0, 3, 1, 0, 0, 2, 1, 2, 2, 2, 2, 2,\n",
              "       2, 3, 2, 1, 2, 1, 1, 3, 1, 0, 3, 2, 2, 1, 3, 1, 0, 2, 0, 3, 2, 3,\n",
              "       3, 1, 1, 2, 3, 0, 1, 0, 0, 2, 2, 0, 2, 3, 3, 2, 3, 2, 3, 1, 2, 1,\n",
              "       3, 0, 1, 3, 0, 1, 2, 0, 1, 1, 3, 0, 3, 0, 2, 1, 2, 0, 1, 2, 2, 2,\n",
              "       3, 1, 0, 2, 0, 0, 3, 3, 2, 0, 0, 0, 0, 0, 0, 2, 0, 3, 2, 0, 1, 0,\n",
              "       1, 0, 3, 0, 1, 1, 1, 3, 0, 3, 2, 3, 1, 0, 2, 1, 2, 1, 2, 0, 1, 1,\n",
              "       2, 3, 0, 2, 3, 3, 3, 2, 0, 1, 3, 0, 2, 2, 2, 0], dtype=int32)"
            ]
          },
          "metadata": {},
          "execution_count": 12
        }
      ]
    },
    {
      "cell_type": "code",
      "source": [
        "plt.scatter(X[:,0],X[:,1])\n",
        "plt.scatter(kmeans.cluster_centers_[:,0],\n",
        "            kmeans.cluster_centers_[:,1], s=50, c='red')\n",
        "plt.show()"
      ],
      "metadata": {
        "colab": {
          "base_uri": "https://localhost:8080/",
          "height": 265
        },
        "id": "rOWkI6-sNAJW",
        "outputId": "bfdd65c7-4ae8-4e6f-8942-61b987e73b5e"
      },
      "execution_count": 15,
      "outputs": [
        {
          "output_type": "display_data",
          "data": {
            "text/plain": [
              "<Figure size 432x288 with 1 Axes>"
            ],
            "image/png": "[encoded data removed]"
          },
          "metadata": {
            "needs_background": "light"
          }
        }
      ]
    },
    {
      "cell_type": "markdown",
      "source": [
        "Práctica"
      ],
      "metadata": {
        "id": "G8Tg9v3UOUij"
      }
    },
    {
      "cell_type": "markdown",
      "source": [
        "Kmeans ++"
      ],
      "metadata": {
        "id": "lwG-_qEgSAwp"
      }
    },
    {
      "cell_type": "code",
      "source": [
        "iris = datasets.load_iris()\n",
        "X1 = iris.data[:, :4]\n",
        "y1 = iris.target"
      ],
      "metadata": {
        "id": "jJYTYn0xOV-N"
      },
      "execution_count": 22,
      "outputs": []
    },
    {
      "cell_type": "code",
      "source": [
        "error = []\n",
        "for i in range(1, 11):\n",
        "  kmeans = KMeans(n_clusters = i, init='k-means++', max_iter = 300, n_init = 10, random_state = 0)\n",
        "  kmeans.fit(X1)\n",
        "  error.append(kmeans.inertia_)"
      ],
      "metadata": {
        "id": "3EqgVC8mQ3fX"
      },
      "execution_count": 23,
      "outputs": []
    },
    {
      "cell_type": "code",
      "source": [
        "plt.plot(range(1,11), error)\n",
        "plt.title(\"Elbow Method\")\n",
        "plt.xlabel(\"# de clusters\")\n",
        "plt.ylabel(\"WCSS\")\n",
        "plt.show()"
      ],
      "metadata": {
        "colab": {
          "base_uri": "https://localhost:8080/",
          "height": 295
        },
        "id": "UnQjhG_zQ-v-",
        "outputId": "12b9d246-5896-40d3-db23-46ec206cb9d5"
      },
      "execution_count": 24,
      "outputs": [
        {
          "output_type": "display_data",
          "data": {
            "text/plain": [
              "<Figure size 432x288 with 1 Axes>"
            ],
            "image/png": "[encoded data removed]"
          },
          "metadata": {
            "needs_background": "light"
          }
        }
      ]
    },
    {
      "cell_type": "markdown",
      "source": [
        "El óptimo de clusters es k = 3"
      ],
      "metadata": {
        "id": "f4f3FsMWRdDY"
      }
    },
    {
      "cell_type": "code",
      "source": [
        "kmeans = KMeans(n_clusters = 3, init='k-means++', max_iter = 300, n_init = 10, random_state = 0)\n",
        "pred_y = kmeans.fit_predict(X1)"
      ],
      "metadata": {
        "id": "Wx8ftUNwRpAN"
      },
      "execution_count": 25,
      "outputs": []
    },
    {
      "cell_type": "code",
      "source": [
        "pred_y"
      ],
      "metadata": {
        "colab": {
          "base_uri": "https://localhost:8080/"
        },
        "id": "A2AsvgS6Rvof",
        "outputId": "c7d6d0f3-4493-42e5-bc1d-42ee1b108047"
      },
      "execution_count": 26,
      "outputs": [
        {
          "output_type": "execute_result",
          "data": {
            "text/plain": [
              "array([1, 1, 1, 1, 1, 1, 1, 1, 1, 1, 1, 1, 1, 1, 1, 1, 1, 1, 1, 1, 1, 1,\n",
              "       1, 1, 1, 1, 1, 1, 1, 1, 1, 1, 1, 1, 1, 1, 1, 1, 1, 1, 1, 1, 1, 1,\n",
              "       1, 1, 1, 1, 1, 1, 0, 0, 2, 0, 0, 0, 0, 0, 0, 0, 0, 0, 0, 0, 0, 0,\n",
              "       0, 0, 0, 0, 0, 0, 0, 0, 0, 0, 0, 2, 0, 0, 0, 0, 0, 0, 0, 0, 0, 0,\n",
              "       0, 0, 0, 0, 0, 0, 0, 0, 0, 0, 0, 0, 2, 0, 2, 2, 2, 2, 0, 2, 2, 2,\n",
              "       2, 2, 2, 0, 0, 2, 2, 2, 2, 0, 2, 0, 2, 0, 2, 2, 0, 0, 2, 2, 2, 2,\n",
              "       2, 0, 2, 2, 2, 2, 0, 2, 2, 2, 0, 2, 2, 2, 0, 2, 2, 0], dtype=int32)"
            ]
          },
          "metadata": {},
          "execution_count": 26
        }
      ]
    },
    {
      "cell_type": "code",
      "source": [
        "plt.scatter(X1[:,0],X1[:,1])\n",
        "plt.scatter(kmeans.cluster_centers_[:,0],\n",
        "            kmeans.cluster_centers_[:,1], s=50, c='red')\n",
        "plt.show()"
      ],
      "metadata": {
        "colab": {
          "base_uri": "https://localhost:8080/",
          "height": 268
        },
        "id": "iMWK1XTLR2hU",
        "outputId": "42dcca5b-d3b6-4f48-e2d2-aebe0f00ebbd"
      },
      "execution_count": 27,
      "outputs": [
        {
          "output_type": "display_data",
          "data": {
            "text/plain": [
              "<Figure size 432x288 with 1 Axes>"
            ],
            "image/png": "[encoded data removed]"
          },
          "metadata": {
            "needs_background": "light"
          }
        }
      ]
    },
    {
      "cell_type": "markdown",
      "source": [
        "Accuracy de Kmeans ++"
      ],
      "metadata": {
        "id": "A623YlyQUbHe"
      }
    },
    {
      "cell_type": "code",
      "source": [
        "test_acc1 = accuracy_score(y1, pred_y)"
      ],
      "metadata": {
        "id": "uSdr_pOUUgxj"
      },
      "execution_count": 37,
      "outputs": []
    },
    {
      "cell_type": "code",
      "source": [
        "print(\"El accuracy de Kmeans++ es: {}\".format(test_acc1*100))"
      ],
      "metadata": {
        "colab": {
          "base_uri": "https://localhost:8080/"
        },
        "id": "fSI_p5iiUtga",
        "outputId": "3af1bfff-898f-4885-ee2f-b3c7714077d0"
      },
      "execution_count": 39,
      "outputs": [
        {
          "output_type": "stream",
          "name": "stdout",
          "text": [
            "El accuracy de Kmeans++ es: 24.0\n"
          ]
        }
      ]
    },
    {
      "cell_type": "markdown",
      "source": [
        "Regresion Logistica"
      ],
      "metadata": {
        "id": "kfwDb_8dSrb0"
      }
    },
    {
      "cell_type": "code",
      "source": [
        "X_train, X_test, y_train, y_test = train_test_split(X1, y1, test_size=0.20, random_state=5)"
      ],
      "metadata": {
        "id": "k2W5O4znSdJ3"
      },
      "execution_count": 29,
      "outputs": []
    },
    {
      "cell_type": "code",
      "source": [
        "model = LogisticRegression()\n",
        "model.fit(X_train, y_train)\n",
        "y_pred = model.predict(X_test)\n",
        "test_acc = accuracy_score(y_test, y_pred)"
      ],
      "metadata": {
        "id": "TJdm4qJGS1TT"
      },
      "execution_count": 35,
      "outputs": []
    },
    {
      "cell_type": "markdown",
      "source": [
        "Accuracy de Regresion Logistica"
      ],
      "metadata": {
        "id": "pKWk-KA1TM-M"
      }
    },
    {
      "cell_type": "code",
      "source": [
        "print(\"El accuracy de la regresión logistica es: {}\".format(test_acc*100))"
      ],
      "metadata": {
        "colab": {
          "base_uri": "https://localhost:8080/"
        },
        "id": "xEbfcikqTH_z",
        "outputId": "390365db-a3f0-45ae-e392-2f4c57227f3e"
      },
      "execution_count": 40,
      "outputs": [
        {
          "output_type": "stream",
          "name": "stdout",
          "text": [
            "El accuracy de la regresión logistica es: 96.66666666666667\n"
          ]
        }
      ]
    }
  ]
}