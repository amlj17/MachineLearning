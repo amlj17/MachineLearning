{
  "nbformat": 4,
  "nbformat_minor": 0,
  "metadata": {
    "colab": {
      "provenance": [],
      "collapsed_sections": []
    },
    "kernelspec": {
      "name": "python3",
      "display_name": "Python 3"
    },
    "language_info": {
      "name": "python"
    }
  },
  "cells": [
    {
      "cell_type": "markdown",
      "source": [
        "Aquí se pone texto "
      ],
      "metadata": {
        "id": "koIhsuGtOc23"
      }
    },
    {
      "cell_type": "code",
      "execution_count": null,
      "metadata": {
        "id": "gnNUINQuMxLM"
      },
      "outputs": [],
      "source": [
        "import numpy as np\n",
        "import matplotlib.pyplot as plt\n",
        "import pandas as pd\n",
        "from sklearn.linear_model import LinearRegression\n",
        "df = pd.read_csv('chirp_dataset.csv')\n"
      ]
    },
    {
      "cell_type": "code",
      "source": [
        "df = pd.read_csv('chirp_dataset.csv')\n",
        "#print(df.head())\n",
        "\n",
        "df = pd.concat([pd.Series(1,index=df.index,name='bias'),df],axis=1)\n",
        "#print(df.head())\n",
        "\n",
        "X = df.drop(columns=['temperature'])\n",
        "y = df.iloc[:,2]\n",
        "#los dos puntos es \"todos en la columna 2\" iloc es acceder al indice y agarrarlos\n",
        "#print(X.head())\n",
        "#queremos predecir el chirp, entonces la agarramos\n",
        "#print(y.head())\n",
        "\n",
        "for column in X:\n",
        "    X[column] = X[column]/np.max(X[column])\n",
        "\n",
        "\n",
        "print(X.head())\n",
        "#inicializar theta para método grad desc\n",
        "theta = np.array([0]*len(X.columns))\n",
        "#print(theta)\n",
        "\n",
        "m=len(df)\n",
        "#print(m)\n",
        "\n",
        "def hipotesis(theta,X):\n",
        "    return theta*X\n",
        "\n",
        "\n",
        "def funcion_de_costo(X,y,theta):\n",
        "    y1=hipotesis(theta,X)\n",
        "    y1=np.sum(y1,axis=1)\n",
        "    return sum(np.sqrt((y1-y)**2))/(2*m)\n",
        "    \n",
        "def gradiente_descendiente(X,y,theta,eta,i):\n",
        "    J=[] #función de costo en cada iteración\n",
        "    k=0 #variable que controla la iteración actual\n",
        "    while k<i:\n",
        "        y1 = hipotesis(theta,X)\n",
        "        y1 = np.sum(y1,axis=1)\n",
        "        for c in range(0,len(X.columns)):\n",
        "            theta[c] = theta[c]-eta*(sum((y1-y)*X.iloc[:,c])/len(X))\n",
        "        j = funcion_de_costo(X, y, theta) #variable que alberga el valor k de la función de costo\n",
        "        J.append(j)\n",
        "        k += 1\n",
        "    return J,j,theta\n",
        "\n",
        "J,j,theta = gradiente_descendiente(X, y, theta, 0.05, 100)    \n",
        "\n",
        "\n",
        "print(J)\n",
        "print(j)\n",
        "print(theta)\n",
        "\n",
        "y_hat = hipotesis(theta,X)\n",
        "y_hat = np.sum(y_hat,axis=1)\n",
        "\n",
        "#Finalmente, graficamos\n",
        "\n",
        "#plt.figure()\n",
        "plt.scatter(x=list(range(0,100)),y=J)\n",
        "plt.show()"
      ],
      "metadata": {
        "colab": {
          "base_uri": "https://localhost:8080/",
          "height": 441
        },
        "id": "y7J7YjIVQKXU",
        "outputId": "0318ae7a-6413-45bc-85d7-6f26deb973fa"
      },
      "execution_count": null,
      "outputs": [
        {
          "output_type": "stream",
          "name": "stdout",
          "text": [
            "   bias  chirps\n",
            "0   1.0   1.000\n",
            "1   1.0   0.800\n",
            "2   1.0   0.990\n",
            "3   1.0   0.920\n",
            "4   1.0   0.855\n",
            "[36.770999999, 34.02199999799999, 31.68933333066667, 29.356666663333332, 27.523999995999997, 25.691333328666666, 23.858666661333327, 22.025999994000003, 20.609666660333335, 19.193333326666664, 18.276999992999997, 17.360666659333333, 16.444333325666666, 15.527999991999998, 14.611666658333336, 13.695333324666668, 12.778999991000001, 11.862666657333332, 10.946333323666666, 10.446333323666666, 9.946333323666666, 9.946333323666666, 9.946333323666666, 9.946333323666666, 9.946333323666666, 9.946333323666666, 9.946333323666666, 9.946333323666666, 9.946333323666666, 9.946333323666666, 9.946333323666666, 9.946333323666666, 9.946333323666666, 9.946333323666666, 9.946333323666666, 9.946333323666666, 9.946333323666666, 9.946333323666666, 9.946333323666666, 9.946333323666666, 9.946333323666666, 9.946333323666666, 9.946333323666666, 9.946333323666666, 9.946333323666666, 9.946333323666666, 9.946333323666666, 9.946333323666666, 9.946333323666666, 9.946333323666666, 9.946333323666666, 9.946333323666666, 9.946333323666666, 9.946333323666666, 9.946333323666666, 9.946333323666666, 9.946333323666666, 9.946333323666666, 9.946333323666666, 9.946333323666666, 9.946333323666666, 9.946333323666666, 9.946333323666666, 9.946333323666666, 9.946333323666666, 9.946333323666666, 9.946333323666666, 9.946333323666666, 9.946333323666666, 9.946333323666666, 9.946333323666666, 9.946333323666666, 9.946333323666666, 9.946333323666666, 9.946333323666666, 9.946333323666666, 9.946333323666666, 9.946333323666666, 9.946333323666666, 9.946333323666666, 9.946333323666666, 9.946333323666666, 9.946333323666666, 9.946333323666666, 9.946333323666666, 9.946333323666666, 9.946333323666666, 9.946333323666666, 9.946333323666666, 9.946333323666666, 9.946333323666666, 9.946333323666666, 9.946333323666666, 9.946333323666666, 9.946333323666666, 9.946333323666666, 9.946333323666666, 9.946333323666666, 9.946333323666666, 9.946333323666666]\n",
            "9.946333323666666\n",
            "[36 29]\n"
          ]
        },
        {
          "output_type": "display_data",
          "data": {
            "text/plain": [
              "<Figure size 432x288 with 1 Axes>"
            ],
            "image/png": "[encoded data removed]"
          },
          "metadata": {
            "needs_background": "light"
          }
        }
      ]
    },
    {
      "cell_type": "code",
      "source": [
        "#Reiniciar el entorno de ejecución si se corrio el chunk anterior\n",
        "df = pd.concat([pd.Series(1,index=df.index,name='bias'),df],axis=1)\n",
        "#print(df.head())\n",
        "\n",
        "X = df.drop(columns=['temperature'])\n",
        "y = df.iloc[:,2]\n",
        "#los dos puntos es \"todos en la columna 2\" iloc es acceder al indice y agarrarlos\n",
        "#print(X.head())\n",
        "#queremos predecir el chirrido, entonces la agarramos\n",
        "#print(y.head())\n",
        "\n",
        "for column in X:\n",
        "    X[column] = X[column]/np.max(X[column])\n",
        "\n",
        "\n",
        "print(X.head())\n",
        "#inicializar theta para método grad desc\n",
        "theta = np.array([0]*len(X.columns))\n",
        "#print(theta)\n",
        "\n",
        "m=len(df)\n",
        "#print(m)\n",
        "\n",
        "def hipotesis(theta,X):\n",
        "    return theta*X\n",
        "\n",
        "def funcion_de_costo(X,y,theta):\n",
        "    y1=hipotesis(theta,X)\n",
        "    y1=np.sum(y1,axis=1)\n",
        "    return sum(np.sqrt((y1-y)**2))/(2*m)\n",
        "    \n",
        "#Implementaremos el early stop\n",
        "\n",
        "\n",
        "def gradiente_descendiente(X, y, theta, eta):\n",
        "  y1 = hipotesis(theta, X)\n",
        "  y1 = np.sum(y1, axis=1)\n",
        "  for c in range(0, len(X.columns)):\n",
        "    theta[c] = theta[c] - eta*(sum((y1-y)*X.iloc[:,c])/len(X))\n",
        "  j = funcion_de_costo(X, y, theta) #variable que alberga la func de costo\n",
        "  return j, theta\n",
        "\n",
        "tol = 0.00001\n",
        "j_ant = 0\n",
        "J = [] #guarda la funcion de costo en cada iteracion\n",
        "j_nuevo, theta = gradiente_descendiente(X,y, theta, 0.05)\n",
        "J.append(j_nuevo)\n",
        "resta = np.abs(j_ant-j_nuevo)\n",
        "while (resta >= tol):\n",
        "  j_ant = j_nuevo\n",
        "  j_nuevo, theta = gradiente_descendiente(X, y, theta, 0.05)\n",
        "  J.append(j_nuevo)\n",
        "  resta = np.abs(j_nuevo-j_ant)\n",
        "\n",
        "print(J)\n",
        "print(j_nuevo)\n",
        "print(resta)\n",
        "print(theta)\n",
        "\n",
        "plt.figure()\n",
        "plt.scatter(x=list(range(0, len(J))), y = J)\n",
        "plt.show()\n"
      ],
      "metadata": {
        "colab": {
          "base_uri": "https://localhost:8080/",
          "height": 459
        },
        "id": "KgSY-YjYTsOF",
        "outputId": "5f7c74c4-56d2-428c-bff0-91e00e85e825"
      },
      "execution_count": null,
      "outputs": [
        {
          "output_type": "stream",
          "name": "stdout",
          "text": [
            "   bias  chirps\n",
            "0   1.0   1.000\n",
            "1   1.0   0.800\n",
            "2   1.0   0.990\n",
            "3   1.0   0.920\n",
            "4   1.0   0.855\n",
            "[36.770999999, 34.02199999799999, 31.68933333066667, 29.356666663333332, 27.523999995999997, 25.691333328666666, 23.858666661333327, 22.025999994000003, 20.609666660333335, 19.193333326666664, 18.276999992999997, 17.360666659333333, 16.444333325666666, 15.527999991999998, 14.611666658333336, 13.695333324666668, 12.778999991000001, 11.862666657333332, 10.946333323666666, 10.446333323666666, 9.946333323666666, 9.946333323666666]\n",
            "9.946333323666666\n",
            "0.0\n",
            "[36 29]\n"
          ]
        },
        {
          "output_type": "display_data",
          "data": {
            "text/plain": [
              "<Figure size 432x288 with 1 Axes>"
            ],
            "image/png": "[encoded data removed]"
          },
          "metadata": {
            "needs_background": "light"
          }
        }
      ]
    }
  ]
}