{
  "nbformat": 4,
  "nbformat_minor": 0,
  "metadata": {
    "colab": {
      "provenance": [],
      "collapsed_sections": []
    },
    "kernelspec": {
      "name": "python3",
      "display_name": "Python 3"
    },
    "language_info": {
      "name": "python"
    },
    "accelerator": "GPU"
  },
  "cells": [
    {
      "cell_type": "code",
      "execution_count": null,
      "metadata": {
        "id": "_d5kqBXus9B1"
      },
      "outputs": [],
      "source": [
        "import tensorflow as tf\n",
        "from tensorflow import keras\n",
        "import random\n",
        "import numpy as np\n",
        "import pandas as pd\n",
        "import matplotlib.pyplot as plt"
      ]
    },
    {
      "cell_type": "code",
      "source": [
        "tf.__version__"
      ],
      "metadata": {
        "colab": {
          "base_uri": "https://localhost:8080/",
          "height": 35
        },
        "id": "N7YCXHKHmg2x",
        "outputId": "2038bf89-2cd5-4b53-cfb2-0751d31bb0cb"
      },
      "execution_count": null,
      "outputs": [
        {
          "output_type": "execute_result",
          "data": {
            "text/plain": [
              "'2.9.2'"
            ],
            "application/vnd.google.colaboratory.intrinsic+json": {
              "type": "string"
            }
          },
          "metadata": {},
          "execution_count": 2
        }
      ]
    },
    {
      "cell_type": "code",
      "source": [
        "keras.__version__"
      ],
      "metadata": {
        "colab": {
          "base_uri": "https://localhost:8080/",
          "height": 35
        },
        "id": "XRtv0mvOmm9x",
        "outputId": "ae22b860-66ad-47d0-cefc-b6dc10c3e573"
      },
      "execution_count": null,
      "outputs": [
        {
          "output_type": "execute_result",
          "data": {
            "text/plain": [
              "'2.9.0'"
            ],
            "application/vnd.google.colaboratory.intrinsic+json": {
              "type": "string"
            }
          },
          "metadata": {},
          "execution_count": 3
        }
      ]
    },
    {
      "cell_type": "code",
      "source": [
        "mnist = keras.datasets.mnist"
      ],
      "metadata": {
        "id": "fAPcMvQTnp99"
      },
      "execution_count": null,
      "outputs": []
    },
    {
      "cell_type": "code",
      "source": [
        "(X_train, y_train), (X_test, y_test) = mnist.load_data()"
      ],
      "metadata": {
        "colab": {
          "base_uri": "https://localhost:8080/"
        },
        "id": "8Ao-J1XKoRlh",
        "outputId": "968576be-b8a7-4032-c931-04f5388e0a15"
      },
      "execution_count": null,
      "outputs": [
        {
          "output_type": "stream",
          "name": "stdout",
          "text": [
            "Downloading data from https://storage.googleapis.com/tensorflow/tf-keras-datasets/mnist.npz\n",
            "11490434/11490434 [==============================] - 0s 0us/step\n"
          ]
        }
      ]
    },
    {
      "cell_type": "code",
      "source": [
        "plt.rcParams[\"figure.figsize\"] = (9,9) #Make the figures a bit bigger\n",
        "\n",
        "for i in range(9):\n",
        "  plt.subplot(3,3, i+1)\n",
        "  num = random.randint(0, len(X_train))\n",
        "  plt.imshow(X_train[num], cmap = 'gray', interpolation= 'none')\n",
        "  plt.title(\"Class {}\".format(y_train[num]))\n",
        "\n",
        "plt.tight_layout()"
      ],
      "metadata": {
        "colab": {
          "base_uri": "https://localhost:8080/",
          "height": 657
        },
        "id": "2fYQUFHLoqZS",
        "outputId": "367e47be-09f7-4d1f-c80e-f7b13897ac72"
      },
      "execution_count": null,
      "outputs": [
        {
          "output_type": "display_data",
          "data": {
            "text/plain": [
              "<Figure size 648x648 with 9 Axes>"
            ],
            "image/png": "[encoded data removed]"
          },
          "metadata": {
            "needs_background": "light"
          }
        }
      ]
    },
    {
      "cell_type": "code",
      "source": [
        "X_train.shape"
      ],
      "metadata": {
        "colab": {
          "base_uri": "https://localhost:8080/"
        },
        "id": "N7wgacTQsaxd",
        "outputId": "18c60615-0131-452e-dfcd-7195d2f1ea5b"
      },
      "execution_count": null,
      "outputs": [
        {
          "output_type": "execute_result",
          "data": {
            "text/plain": [
              "(60000, 28, 28)"
            ]
          },
          "metadata": {},
          "execution_count": 6
        }
      ]
    },
    {
      "cell_type": "code",
      "source": [
        "X_train.dtype"
      ],
      "metadata": {
        "colab": {
          "base_uri": "https://localhost:8080/"
        },
        "id": "Sf9k_88UsxO3",
        "outputId": "a5c0b9c4-f10c-4ec8-ee7f-e97834b0bc3d"
      },
      "execution_count": null,
      "outputs": [
        {
          "output_type": "execute_result",
          "data": {
            "text/plain": [
              "dtype('uint8')"
            ]
          },
          "metadata": {},
          "execution_count": 7
        }
      ]
    },
    {
      "cell_type": "code",
      "source": [
        "X_valid, X_train = X_train[:5000] / 255.0, X_train[5000:] / 255.0\n",
        "y_valid, y_train = y_train[:5000], y_train[5000:]"
      ],
      "metadata": {
        "id": "oZzATw5atLxD"
      },
      "execution_count": null,
      "outputs": []
    },
    {
      "cell_type": "code",
      "source": [
        "X_train.shape"
      ],
      "metadata": {
        "colab": {
          "base_uri": "https://localhost:8080/"
        },
        "id": "ElXwZWAdt2FC",
        "outputId": "ddac0b73-7962-4b3d-c7f2-53d23f2897e6"
      },
      "execution_count": null,
      "outputs": [
        {
          "output_type": "execute_result",
          "data": {
            "text/plain": [
              "(55000, 28, 28)"
            ]
          },
          "metadata": {},
          "execution_count": 9
        }
      ]
    },
    {
      "cell_type": "code",
      "source": [
        "X_train.dtype"
      ],
      "metadata": {
        "colab": {
          "base_uri": "https://localhost:8080/"
        },
        "id": "7T7OhbMYt5y0",
        "outputId": "2a8718e8-3ac0-40ee-bc6c-ceb73c5c3bfb"
      },
      "execution_count": null,
      "outputs": [
        {
          "output_type": "execute_result",
          "data": {
            "text/plain": [
              "dtype('float64')"
            ]
          },
          "metadata": {},
          "execution_count": 10
        }
      ]
    },
    {
      "cell_type": "code",
      "source": [
        "model = keras.models.Sequential() #un modelo secuencial\n",
        "model.add(keras.layers.Flatten(input_shape = (28, 28))) #la capa de entrada\n",
        "#1era capa oculta\n",
        "model.add(keras.layers.Dense(512, kernel_initializer = 'he_normal')) #1er capa oculta\n",
        "model.add(keras.layers.LeakyReLU(alpha = 0.2)) #funcion de activacion\n",
        "#model.add(keras.layers.Dropout(0.2)) #matar neuronas\n",
        "#2da capa oculta\n",
        "model.add(keras.layers.Dense(512, activation = 'relu'))\n",
        "#model.add(keras.layers.Dropout(0.2))\n",
        "#Capa de salida\n",
        "model.add(keras.layers.Dense(10, activation = 'softmax')) #recordemos que softmax hace que salidas oscilen entre 0 y 1 (tipo proba)"
      ],
      "metadata": {
        "id": "eCLM0sJEt_SF"
      },
      "execution_count": null,
      "outputs": []
    },
    {
      "cell_type": "code",
      "source": [
        "model.summary()"
      ],
      "metadata": {
        "colab": {
          "base_uri": "https://localhost:8080/"
        },
        "id": "-byOADqFxFEr",
        "outputId": "7b1303d9-0a88-48a8-f398-41c240db8b1c"
      },
      "execution_count": null,
      "outputs": [
        {
          "output_type": "stream",
          "name": "stdout",
          "text": [
            "Model: \"sequential_2\"\n",
            "_________________________________________________________________\n",
            " Layer (type)                Output Shape              Param #   \n",
            "=================================================================\n",
            " flatten_2 (Flatten)         (None, 784)               0         \n",
            "                                                                 \n",
            " dense_6 (Dense)             (None, 512)               401920    \n",
            "                                                                 \n",
            " leaky_re_lu_2 (LeakyReLU)   (None, 512)               0         \n",
            "                                                                 \n",
            " dense_7 (Dense)             (None, 512)               262656    \n",
            "                                                                 \n",
            " dense_8 (Dense)             (None, 10)                5130      \n",
            "                                                                 \n",
            "=================================================================\n",
            "Total params: 669,706\n",
            "Trainable params: 669,706\n",
            "Non-trainable params: 0\n",
            "_________________________________________________________________\n"
          ]
        }
      ]
    },
    {
      "cell_type": "code",
      "source": [
        "#compilar el modelo (funcion de perdida y para optimizar y con que evaluar)\n",
        "model.compile(loss = 'sparse_categorical_crossentropy', optimizer = 'sgd', metrics = ['accuracy'])"
      ],
      "metadata": {
        "id": "t-EHCetqxQC7"
      },
      "execution_count": null,
      "outputs": []
    },
    {
      "cell_type": "markdown",
      "source": [
        "Implementación de early stopping con una \"paciencia de 2 épocas\""
      ],
      "metadata": {
        "id": "bHL-3icVZLD7"
      }
    },
    {
      "cell_type": "code",
      "source": [
        "#Implementar Early Stopping añadir un callback\n",
        "#Monitoreamos val_loss y la condicion de paro es el numero de epochs\n",
        "callback = tf.keras.callbacks.EarlyStopping(monitor = 'val_loss', patience = 2)"
      ],
      "metadata": {
        "id": "8XCL8kIt315a"
      },
      "execution_count": null,
      "outputs": []
    },
    {
      "cell_type": "code",
      "source": [
        "#empezamos a ajustar\n",
        "#Tras implementar el early stopping tenemos que se frena en la epoch 43\n",
        "history = model.fit(X_train, y_train, epochs = 100, validation_data = (X_valid, y_valid), callbacks=[callback])"
      ],
      "metadata": {
        "colab": {
          "base_uri": "https://localhost:8080/"
        },
        "id": "IpdqZ5D1x4Hw",
        "outputId": "62a77663-462b-4461-e389-b6642f71a3cf"
      },
      "execution_count": null,
      "outputs": [
        {
          "output_type": "stream",
          "name": "stdout",
          "text": [
            "Epoch 1/100\n",
            "1719/1719 [==============================] - 6s 3ms/step - loss: 0.5546 - accuracy: 0.8611 - val_loss: 0.3019 - val_accuracy: 0.9184\n",
            "Epoch 2/100\n",
            "1719/1719 [==============================] - 5s 3ms/step - loss: 0.2839 - accuracy: 0.9191 - val_loss: 0.2411 - val_accuracy: 0.9314\n",
            "Epoch 3/100\n",
            "1719/1719 [==============================] - 5s 3ms/step - loss: 0.2350 - accuracy: 0.9332 - val_loss: 0.2072 - val_accuracy: 0.9416\n",
            "Epoch 4/100\n",
            "1719/1719 [==============================] - 5s 3ms/step - loss: 0.2031 - accuracy: 0.9422 - val_loss: 0.1843 - val_accuracy: 0.9500\n",
            "Epoch 5/100\n",
            "1719/1719 [==============================] - 5s 3ms/step - loss: 0.1790 - accuracy: 0.9490 - val_loss: 0.1675 - val_accuracy: 0.9542\n",
            "Epoch 6/100\n",
            "1719/1719 [==============================] - 5s 3ms/step - loss: 0.1603 - accuracy: 0.9539 - val_loss: 0.1539 - val_accuracy: 0.9568\n",
            "Epoch 7/100\n",
            "1719/1719 [==============================] - 5s 3ms/step - loss: 0.1447 - accuracy: 0.9595 - val_loss: 0.1410 - val_accuracy: 0.9598\n",
            "Epoch 8/100\n",
            "1719/1719 [==============================] - 5s 3ms/step - loss: 0.1315 - accuracy: 0.9626 - val_loss: 0.1310 - val_accuracy: 0.9630\n",
            "Epoch 9/100\n",
            "1719/1719 [==============================] - 5s 3ms/step - loss: 0.1210 - accuracy: 0.9653 - val_loss: 0.1240 - val_accuracy: 0.9662\n",
            "Epoch 10/100\n",
            "1719/1719 [==============================] - 6s 4ms/step - loss: 0.1113 - accuracy: 0.9692 - val_loss: 0.1189 - val_accuracy: 0.9682\n",
            "Epoch 11/100\n",
            "1719/1719 [==============================] - 5s 3ms/step - loss: 0.1039 - accuracy: 0.9708 - val_loss: 0.1129 - val_accuracy: 0.9684\n",
            "Epoch 12/100\n",
            "1719/1719 [==============================] - 5s 3ms/step - loss: 0.0966 - accuracy: 0.9732 - val_loss: 0.1068 - val_accuracy: 0.9702\n",
            "Epoch 13/100\n",
            "1719/1719 [==============================] - 5s 3ms/step - loss: 0.0899 - accuracy: 0.9754 - val_loss: 0.1036 - val_accuracy: 0.9710\n",
            "Epoch 14/100\n",
            "1719/1719 [==============================] - 5s 3ms/step - loss: 0.0842 - accuracy: 0.9768 - val_loss: 0.0997 - val_accuracy: 0.9712\n",
            "Epoch 15/100\n",
            "1719/1719 [==============================] - 5s 3ms/step - loss: 0.0792 - accuracy: 0.9782 - val_loss: 0.0995 - val_accuracy: 0.9720\n",
            "Epoch 16/100\n",
            "1719/1719 [==============================] - 5s 3ms/step - loss: 0.0748 - accuracy: 0.9792 - val_loss: 0.0924 - val_accuracy: 0.9754\n",
            "Epoch 17/100\n",
            "1719/1719 [==============================] - 5s 3ms/step - loss: 0.0702 - accuracy: 0.9805 - val_loss: 0.0891 - val_accuracy: 0.9748\n",
            "Epoch 18/100\n",
            "1719/1719 [==============================] - 5s 3ms/step - loss: 0.0663 - accuracy: 0.9821 - val_loss: 0.0904 - val_accuracy: 0.9746\n",
            "Epoch 19/100\n",
            "1719/1719 [==============================] - 5s 3ms/step - loss: 0.0625 - accuracy: 0.9833 - val_loss: 0.0851 - val_accuracy: 0.9768\n",
            "Epoch 20/100\n",
            "1719/1719 [==============================] - 5s 3ms/step - loss: 0.0591 - accuracy: 0.9841 - val_loss: 0.0852 - val_accuracy: 0.9756\n",
            "Epoch 21/100\n",
            "1719/1719 [==============================] - 5s 3ms/step - loss: 0.0565 - accuracy: 0.9849 - val_loss: 0.0836 - val_accuracy: 0.9758\n",
            "Epoch 22/100\n",
            "1719/1719 [==============================] - 5s 3ms/step - loss: 0.0533 - accuracy: 0.9856 - val_loss: 0.0808 - val_accuracy: 0.9760\n",
            "Epoch 23/100\n",
            "1719/1719 [==============================] - 5s 3ms/step - loss: 0.0507 - accuracy: 0.9866 - val_loss: 0.0798 - val_accuracy: 0.9770\n",
            "Epoch 24/100\n",
            "1719/1719 [==============================] - 6s 3ms/step - loss: 0.0481 - accuracy: 0.9873 - val_loss: 0.0789 - val_accuracy: 0.9782\n",
            "Epoch 25/100\n",
            "1719/1719 [==============================] - 5s 3ms/step - loss: 0.0455 - accuracy: 0.9884 - val_loss: 0.0782 - val_accuracy: 0.9774\n",
            "Epoch 26/100\n",
            "1719/1719 [==============================] - 6s 3ms/step - loss: 0.0435 - accuracy: 0.9888 - val_loss: 0.0778 - val_accuracy: 0.9786\n",
            "Epoch 27/100\n",
            "1719/1719 [==============================] - 5s 3ms/step - loss: 0.0413 - accuracy: 0.9897 - val_loss: 0.0777 - val_accuracy: 0.9786\n",
            "Epoch 28/100\n",
            "1719/1719 [==============================] - 5s 3ms/step - loss: 0.0393 - accuracy: 0.9901 - val_loss: 0.0764 - val_accuracy: 0.9778\n",
            "Epoch 29/100\n",
            "1719/1719 [==============================] - 5s 3ms/step - loss: 0.0374 - accuracy: 0.9906 - val_loss: 0.0737 - val_accuracy: 0.9784\n",
            "Epoch 30/100\n",
            "1719/1719 [==============================] - 5s 3ms/step - loss: 0.0357 - accuracy: 0.9911 - val_loss: 0.0735 - val_accuracy: 0.9784\n",
            "Epoch 31/100\n",
            "1719/1719 [==============================] - 5s 3ms/step - loss: 0.0340 - accuracy: 0.9917 - val_loss: 0.0727 - val_accuracy: 0.9794\n",
            "Epoch 32/100\n",
            "1719/1719 [==============================] - 5s 3ms/step - loss: 0.0322 - accuracy: 0.9926 - val_loss: 0.0758 - val_accuracy: 0.9786\n",
            "Epoch 33/100\n",
            "1719/1719 [==============================] - 5s 3ms/step - loss: 0.0310 - accuracy: 0.9927 - val_loss: 0.0729 - val_accuracy: 0.9780\n"
          ]
        }
      ]
    },
    {
      "cell_type": "code",
      "source": [
        "#Graficar los errores\n",
        "pd.DataFrame(history.history).plot(figsize=(8,5))\n",
        "plt.grid(True)\n",
        "plt.gca().set_ylim(0.0,1) # modifica el rango del eje y\n",
        "plt.show()"
      ],
      "metadata": {
        "colab": {
          "base_uri": "https://localhost:8080/",
          "height": 324
        },
        "id": "swVQyQFgzIHn",
        "outputId": "4087d198-3feb-41e4-b51c-4e532ae93806"
      },
      "execution_count": null,
      "outputs": [
        {
          "output_type": "display_data",
          "data": {
            "text/plain": [
              "<Figure size 576x360 with 1 Axes>"
            ],
            "image/png": "[encoded data removed]"
          },
          "metadata": {
            "needs_background": "light"
          }
        }
      ]
    },
    {
      "cell_type": "code",
      "source": [
        "#evaluar el modelo\n",
        "model.evaluate(X_test, y_test)"
      ],
      "metadata": {
        "colab": {
          "base_uri": "https://localhost:8080/"
        },
        "id": "F-KhAz_h5Q6F",
        "outputId": "412bf5a8-9a71-4b3e-d4b8-695076228a18"
      },
      "execution_count": null,
      "outputs": [
        {
          "output_type": "stream",
          "name": "stdout",
          "text": [
            "313/313 [==============================] - 1s 2ms/step - loss: 13.5676 - accuracy: 0.9737\n"
          ]
        },
        {
          "output_type": "execute_result",
          "data": {
            "text/plain": [
              "[13.567625045776367, 0.9736999869346619]"
            ]
          },
          "metadata": {},
          "execution_count": 25
        }
      ]
    },
    {
      "cell_type": "markdown",
      "source": [
        "1. **Añadir Early Stopping**\n",
        "\n",
        "Se añade el early stopping y se revisa el parámetro val_loss. En este caso se hace el early stopping considerando el número de epochs. Se utiliza un parámetro de paciencia de dos. Es decir que si no hay mejora en el error tras dos epochs, se termina el entrenamiento del modelo. En este caso se puede observar de la gráfica y los resultados que el tope es en 43 epochs. En la gráfica de los errores se puede ver que los valores de loss y val_loss comienzan a oscilar y que el accuracy parece llegara a una asíntota. Es decir que el número óptimo de epochs para este modelo es de 40 o 41 dada la paciencia de 2. \n",
        "\n",
        "En este caso el loss es de 11.3962 y el accuracy es de 0.9787. Aquí utilizamos el DropOut para evitar sobre ajuste. \n",
        "\n",
        "2. **Eliminar el DropOut**\n",
        "\n",
        "Se elimina la capa de DropOut que va \"matando\" neuronas, se tiene que ver que pasa con el sobre ajuste. En el caso del early stopping ahora se detiene en la epoch 33, es decir que el óptimo de epochs es entre 30 y 31 teniendo una paciencia de dos. En la gráfica de los errores parece haber una mayor diferencia entre los valores de loss y val_loss. También parece que se comienzan a separar hacia el final de la gráfica los valores de accuracy y val_accuracy. \n",
        "\n",
        "Al evaluar el modelo nos da un loss de 13.5676 y un accuracy de 0.9737. \n",
        "\n",
        "Al quitar el DropOut el accuracy disminuye de 0.9787 a 9737 y el loss o error aumenta de 11.3962 a 13.5676. Esto quiere decir que el Dropout nos permite optimizar el accuracy y disminuir el error. "
      ],
      "metadata": {
        "id": "Dy_EF37BZW7v"
      }
    },
    {
      "cell_type": "code",
      "source": [
        "#hacer predicciones\n",
        "predictions = model.predict(X_test)"
      ],
      "metadata": {
        "colab": {
          "base_uri": "https://localhost:8080/"
        },
        "id": "35sIIODL5iGH",
        "outputId": "65c46eec-d469-4107-cd42-4e2f57f7e8e6"
      },
      "execution_count": null,
      "outputs": [
        {
          "output_type": "stream",
          "name": "stdout",
          "text": [
            "313/313 [==============================] - 1s 2ms/step\n"
          ]
        }
      ]
    },
    {
      "cell_type": "code",
      "source": [
        "predictions[0]"
      ],
      "metadata": {
        "colab": {
          "base_uri": "https://localhost:8080/"
        },
        "id": "ucrsktHU5zT_",
        "outputId": "2b0eb1be-25a4-4251-ea10-509a7f161601"
      },
      "execution_count": null,
      "outputs": [
        {
          "output_type": "execute_result",
          "data": {
            "text/plain": [
              "array([0., 0., 0., 0., 0., 0., 0., 1., 0., 0.], dtype=float32)"
            ]
          },
          "metadata": {},
          "execution_count": 20
        }
      ]
    },
    {
      "cell_type": "code",
      "source": [
        "np.argmax(predictions[0])"
      ],
      "metadata": {
        "colab": {
          "base_uri": "https://localhost:8080/"
        },
        "id": "KLbrFHaM6SWX",
        "outputId": "1f7aa97e-dc66-449f-d8c6-54efd7a19355"
      },
      "execution_count": null,
      "outputs": [
        {
          "output_type": "execute_result",
          "data": {
            "text/plain": [
              "7"
            ]
          },
          "metadata": {},
          "execution_count": 21
        }
      ]
    },
    {
      "cell_type": "code",
      "source": [
        "class_names = ['0', '1', '2', '3', '4', '5', '6', '7', '8', '9']"
      ],
      "metadata": {
        "id": "RpI0lqLQ6YNl"
      },
      "execution_count": null,
      "outputs": []
    },
    {
      "cell_type": "code",
      "source": [
        "def plot_image(i, predictions_array, true_label, img):\n",
        "\n",
        "  predictions_array, true_label, img = predictions_array, true_label[i], img[i]\n",
        "\n",
        "  plt.grid(False)\n",
        "\n",
        "  plt.xticks([])\n",
        "\n",
        "  plt.yticks([])\n",
        "\n",
        " \n",
        "\n",
        "  plt.imshow(img, cmap=plt.cm.binary)\n",
        "\n",
        " \n",
        "\n",
        "  predicted_label = np.argmax(predictions_array)\n",
        "\n",
        "  if predicted_label == true_label:\n",
        "\n",
        "    color = 'blue'\n",
        "\n",
        "  else:\n",
        "\n",
        "    color = 'red'\n",
        "\n",
        " \n",
        "\n",
        "  plt.xlabel(\"{} {:2.0f}% ({})\".format(class_names[predicted_label],\n",
        "\n",
        "                                100*np.max(predictions_array),\n",
        "\n",
        "                                class_names[true_label]),\n",
        "\n",
        "                                color=color)"
      ],
      "metadata": {
        "id": "_IFug47x7gRW"
      },
      "execution_count": null,
      "outputs": []
    },
    {
      "cell_type": "code",
      "source": [
        "def plot_value_array(i, predictions_array, true_label):\n",
        "\n",
        "  predictions_array, true_label = predictions_array, true_label[i]\n",
        "\n",
        "  plt.grid(False)\n",
        "\n",
        "  plt.xticks(range(10))\n",
        "\n",
        "  plt.yticks([])\n",
        "\n",
        "  thisplot = plt.bar(range(10), predictions_array, color=\"#777777\")\n",
        "\n",
        "  plt.ylim([0, 1])\n",
        "\n",
        "  predicted_label = np.argmax(predictions_array)\n",
        "\n",
        " \n",
        "\n",
        "  thisplot[predicted_label].set_color('red')\n",
        "\n",
        "  thisplot[true_label].set_color('blue')"
      ],
      "metadata": {
        "id": "qqJaw1567m12"
      },
      "execution_count": null,
      "outputs": []
    },
    {
      "cell_type": "code",
      "source": [
        "i = 45\n",
        "\n",
        "plt.figure(figsize=(6,3))\n",
        "\n",
        "plt.subplot(1,2,1)\n",
        "\n",
        "plot_image(i, predictions[i], y_test, X_test)\n",
        "\n",
        "plt.subplot(1,2,2)\n",
        "\n",
        "plot_value_array(i, predictions[i],  y_test)\n",
        "\n",
        "plt.show()"
      ],
      "metadata": {
        "colab": {
          "base_uri": "https://localhost:8080/",
          "height": 211
        },
        "id": "gQUyidaZ7q_6",
        "outputId": "bc103039-7abf-419a-a0e2-40444f3857e8"
      },
      "execution_count": null,
      "outputs": [
        {
          "output_type": "display_data",
          "data": {
            "text/plain": [
              "<Figure size 432x216 with 2 Axes>"
            ],
            "image/png": "[encoded data removed]"
          },
          "metadata": {
            "needs_background": "light"
          }
        }
      ]
    }
  ]
}