{
  "nbformat": 4,
  "nbformat_minor": 0,
  "metadata": {
    "colab": {
      "provenance": []
    },
    "kernelspec": {
      "name": "python3",
      "display_name": "Python 3"
    },
    "language_info": {
      "name": "python"
    }
  },
  "cells": [
    {
      "cell_type": "markdown",
      "source": [
        "Una vez más, cargamos las librerías que necesitamos para nuestro programa."
      ],
      "metadata": {
        "id": "Eq-gaLjCvgeL"
      }
    },
    {
      "cell_type": "code",
      "execution_count": 1,
      "metadata": {
        "id": "IksuQjP9Fblx"
      },
      "outputs": [],
      "source": [
        "# para cargar y guardar los datos\n",
        "import pandas as pd\n",
        "\n",
        "# para aplicar los modelos de machine learning y métodos utilitarios\n",
        "from sklearn.model_selection import train_test_split\n",
        "from sklearn.linear_model import LogisticRegression\n",
        "from sklearn import preprocessing\n",
        "from sklearn.metrics import accuracy_score, classification_report, confusion_matrix\n",
        "\n",
        "# para graficar\n",
        "from matplotlib import pyplot as plt\n",
        "import seaborn as sns"
      ]
    },
    {
      "cell_type": "markdown",
      "source": [
        "Vamos a descargar el conjunto de datos de la plataforma de Kaggle: https://www.kaggle.com/datasets/mlg-ulb/creditcardfraud\n",
        "\n",
        "Una vez descargado, vamos a cargar el conjunto de datos mediante una DataFrame de pandas."
      ],
      "metadata": {
        "id": "DoTvkoZIvCrD"
      }
    },
    {
      "cell_type": "code",
      "source": [
        "df = pd.read_csv('creditcard.csv')"
      ],
      "metadata": {
        "id": "vNkrq5ecv7Y-"
      },
      "execution_count": 2,
      "outputs": []
    }
  ]
}