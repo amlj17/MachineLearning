{
  "nbformat": 4,
  "nbformat_minor": 0,
  "metadata": {
    "colab": {
      "provenance": []
    },
    "kernelspec": {
      "name": "python3",
      "display_name": "Python 3"
    },
    "language_info": {
      "name": "python"
    }
  },
  "cells": [
    {
      "cell_type": "markdown",
      "source": [
        "## Código"
      ],
      "metadata": {
        "id": "WfauywA80Zk-"
      }
    },
    {
      "cell_type": "code",
      "execution_count": null,
      "metadata": {
        "id": "hiP9hgU1u8Fv"
      },
      "outputs": [],
      "source": [
        "# librerias para implementar los modelos de ML\n",
        "from sklearn.linear_model import Ridge, LinearRegression\n",
        "from sklearn.preprocessing import PolynomialFeatures\n",
        "from sklearn.metrics import mean_squared_error\n",
        "from sklearn.model_selection import train_test_split\n",
        "\n",
        "# librerias auxiliares\n",
        "import numpy as np\n",
        "import matplotlib.pyplot as plt"
      ]
    },
    {
      "cell_type": "markdown",
      "source": [
        "Recuerden que la regresión polinomial en una variable tiene la forma:\n",
        "$$y = \\theta_0 + \\theta_1 x + \\theta_2 x^2 +...+\\theta_nx^n  $$"
      ],
      "metadata": {
        "id": "4VOqjLxMCwPH"
      }
    },
    {
      "cell_type": "code",
      "source": [
        "X = np.arange(-10,10.2,0.2)\n",
        "y = 1+X+2*X**2+3*X**3 # x"
      ],
      "metadata": {
        "id": "mfjNl_7Lv2aZ"
      },
      "execution_count": null,
      "outputs": []
    },
    {
      "cell_type": "code",
      "source": [
        "plt.plot(X,y)\n",
        "plt.show()"
      ],
      "metadata": {
        "id": "2ZzW0Ja30rSc",
        "colab": {
          "base_uri": "https://localhost:8080/",
          "height": 265
        },
        "outputId": "c146272f-b723-4eed-f163-eb9203ebbfc2"
      },
      "execution_count": null,
      "outputs": [
        {
          "output_type": "display_data",
          "data": {
            "text/plain": [
              "<Figure size 432x288 with 1 Axes>"
            ],
            "image/png": "[encoded data removed]"
          },
          "metadata": {
            "needs_background": "light"
          }
        }
      ]
    },
    {
      "cell_type": "markdown",
      "source": [
        "Vamos a empezar definiendo el modelo polinomial con la función `PolynomialFeatures`. De [su documentación](https://scikit-learn.org/stable/modules/generated/sklearn.preprocessing.PolynomialFeatures.html?highlight=polynomialfeatures#sklearn.preprocessing.PolynomialFeatures) en scikit learn:\n",
        "\n",
        "\n",
        "> Generate a new feature matrix consisting of all polynomial combinations of the features with degree less than or equal to the specified degree. For example, if an input sample is two dimensional and of the form [a, b], the degree-2 polynomial features are [1, a, b, a^2, ab, b^2].\n",
        "\n",
        "\n",
        "Creamos la instancia del transformador, y después *ajustamos* y *transformamos* los datos."
      ],
      "metadata": {
        "id": "mZynS--hD7Yh"
      }
    },
    {
      "cell_type": "code",
      "source": [
        "X_train, X_test, y_train, y_test = train_test_split(X, \n",
        "                                                    y, test_size=0.3, \n",
        "                                                    random_state=42)"
      ],
      "metadata": {
        "id": "xqhjbc-rBcid"
      },
      "execution_count": null,
      "outputs": []
    },
    {
      "cell_type": "code",
      "source": [
        "poly = PolynomialFeatures(degree=1, include_bias=False)"
      ],
      "metadata": {
        "id": "5IbiOKVF1CFv"
      },
      "execution_count": null,
      "outputs": []
    },
    {
      "cell_type": "code",
      "source": [
        "poly.fit(X.reshape(-1, 1))"
      ],
      "metadata": {
        "colab": {
          "base_uri": "https://localhost:8080/"
        },
        "id": "NHHDWWkXFYXv",
        "outputId": "96c9c2f5-f354-42ea-cba1-dd7866fc8984"
      },
      "execution_count": null,
      "outputs": [
        {
          "output_type": "execute_result",
          "data": {
            "text/plain": [
              "PolynomialFeatures(degree=1, include_bias=False)"
            ]
          },
          "metadata": {},
          "execution_count": 6
        }
      ]
    },
    {
      "cell_type": "code",
      "source": [
        "poly.transform(X.reshape(-1, 1))"
      ],
      "metadata": {
        "id": "1kNk3kX_Fcr5"
      },
      "execution_count": null,
      "outputs": []
    },
    {
      "cell_type": "code",
      "source": [
        "poly_features_train = poly.fit_transform(X_train.reshape(-1, 1))"
      ],
      "metadata": {
        "id": "aRchANzr1OQE"
      },
      "execution_count": null,
      "outputs": []
    },
    {
      "cell_type": "code",
      "source": [
        "poly_features_test = poly.fit_transform(X_test.reshape(-1, 1))"
      ],
      "metadata": {
        "id": "iEkioU8HEvD0"
      },
      "execution_count": null,
      "outputs": []
    },
    {
      "cell_type": "markdown",
      "source": [
        "Realizamos nuestras particiones de prueba y entrenamiento:"
      ],
      "metadata": {
        "id": "n8vV_EztFFEN"
      }
    },
    {
      "cell_type": "markdown",
      "source": [
        "Declaramos nuestro método:"
      ],
      "metadata": {
        "id": "I5TtW0lVFKEU"
      }
    },
    {
      "cell_type": "code",
      "source": [
        "poly_reg_model = LinearRegression()"
      ],
      "metadata": {
        "id": "7Rf38Of02WKD"
      },
      "execution_count": null,
      "outputs": []
    },
    {
      "cell_type": "code",
      "source": [
        "poly_reg_model.fit(poly_features_train, y_train)"
      ],
      "metadata": {
        "colab": {
          "base_uri": "https://localhost:8080/"
        },
        "id": "c0WhaCOsABRE",
        "outputId": "55a132e4-cce4-4a2f-bb72-29063ea7dbce"
      },
      "execution_count": null,
      "outputs": [
        {
          "output_type": "execute_result",
          "data": {
            "text/plain": [
              "LinearRegression()"
            ]
          },
          "metadata": {},
          "execution_count": 11
        }
      ]
    },
    {
      "cell_type": "code",
      "source": [
        "y_pred = poly_reg_model.predict(poly_features_test)\n",
        "y_pred"
      ],
      "metadata": {
        "id": "sTVOd8I4AGGe",
        "colab": {
          "base_uri": "https://localhost:8080/"
        },
        "outputId": "e81afac8-ce97-47b1-87d9-19f8f0706d68"
      },
      "execution_count": null,
      "outputs": [
        {
          "output_type": "execute_result",
          "data": {
            "text/plain": [
              "array([ 1325.35619147,   247.42289349,   656.29414445,   693.46425817,\n",
              "        -124.27824374,  -347.29892608,  -979.19085937,  -161.44835746,\n",
              "       -1425.23222405, -1796.93336129, -1127.87131427,  -681.82994959,\n",
              "        1808.56766987,  -570.31960842,  1065.16539541, -1648.25290639,\n",
              "        1659.88721498,  1102.33550913, -1350.89199661,  -644.65983587,\n",
              "        1027.99528168,  1511.20676008,  -830.51040448,  -235.78858491,\n",
              "         804.97459934, -1239.38165544,  -310.12881236,   879.31482679,\n",
              "       -1462.40233778,  1771.39755615, -1388.06211033])"
            ]
          },
          "metadata": {},
          "execution_count": 12
        }
      ]
    },
    {
      "cell_type": "code",
      "source": [
        "error = mean_squared_error(y_test, y_pred)\n",
        "error"
      ],
      "metadata": {
        "colab": {
          "base_uri": "https://localhost:8080/"
        },
        "id": "1H-Jef4ABOpn",
        "outputId": "4f22e9e6-f2b2-42e2-e08a-e63cd62c4daa"
      },
      "execution_count": null,
      "outputs": [
        {
          "output_type": "execute_result",
          "data": {
            "text/plain": [
              "222095.39597383392"
            ]
          },
          "metadata": {},
          "execution_count": 13
        }
      ]
    },
    {
      "cell_type": "code",
      "source": [
        "X_test.shape"
      ],
      "metadata": {
        "colab": {
          "base_uri": "https://localhost:8080/"
        },
        "id": "QslYx3juEPJg",
        "outputId": "f22c4a64-cfc8-4b0d-f93b-d9b3df8fa57c"
      },
      "execution_count": null,
      "outputs": [
        {
          "output_type": "execute_result",
          "data": {
            "text/plain": [
              "(31,)"
            ]
          },
          "metadata": {},
          "execution_count": 14
        }
      ]
    },
    {
      "cell_type": "code",
      "source": [
        "y_test.shape"
      ],
      "metadata": {
        "colab": {
          "base_uri": "https://localhost:8080/"
        },
        "id": "y6p6228dEUrH",
        "outputId": "af860f23-8d95-47e5-886b-2bea3831f2f3"
      },
      "execution_count": null,
      "outputs": [
        {
          "output_type": "execute_result",
          "data": {
            "text/plain": [
              "(31,)"
            ]
          },
          "metadata": {},
          "execution_count": 15
        }
      ]
    },
    {
      "cell_type": "code",
      "source": [
        "plt.figure(figsize=(10, 6))\n",
        "plt.title(\"Regresión Polinomial\", size=16)\n",
        "plt.scatter(X_test, y_test)\n",
        "plt.scatter(X_test, y_pred)\n",
        "plt.show()"
      ],
      "metadata": {
        "colab": {
          "base_uri": "https://localhost:8080/",
          "height": 393
        },
        "id": "-mWM3lbYALSk",
        "outputId": "2abdbfe3-899e-441e-edea-4e5be6a2b291"
      },
      "execution_count": null,
      "outputs": [
        {
          "output_type": "display_data",
          "data": {
            "text/plain": [
              "<Figure size 720x432 with 1 Axes>"
            ],
            "image/png": "[encoded data removed]"
          },
          "metadata": {
            "needs_background": "light"
          }
        }
      ]
    },
    {
      "cell_type": "markdown",
      "source": [
        "## Actividades"
      ],
      "metadata": {
        "id": "A9je0vqj0V1-"
      }
    },
    {
      "cell_type": "markdown",
      "source": [
        "**Actividad #1**: Dibujar, con Python, la gráfica del Error Cuadrático Medio generado al iterar el grado $d$ del polinomio entre 1 y 10. Obtener los valores de $\\theta$ que determina el modelo de regresión polinomial para cada valor de $d$."
      ],
      "metadata": {
        "id": "jYbt39BAGKX-"
      }
    },
    {
      "cell_type": "code",
      "source": [
        "X = np.arange(-10,10.2,0.2)\n",
        "y = 1+X+2*X**2+3*X**3 # x"
      ],
      "metadata": {
        "id": "TsG6TzLbHbL8"
      },
      "execution_count": null,
      "outputs": []
    },
    {
      "cell_type": "code",
      "source": [
        "X_train, X_test, y_train, y_test = train_test_split(X, \n",
        "                                                    y, test_size=0.3, \n",
        "                                                    random_state=42)"
      ],
      "metadata": {
        "id": "vQXmXPnCHvUx"
      },
      "execution_count": null,
      "outputs": []
    },
    {
      "cell_type": "code",
      "source": [
        "from numpy.lib.function_base import append\n",
        "degree = []\n",
        "errores = []\n",
        "for d in range(1,11):\n",
        "  poly = PolynomialFeatures(degree=d, include_bias=False)\n",
        "  degree.append(d)\n",
        "  poly.fit(X.reshape(-1, 1))\n",
        "  poly.transform(X.reshape(-1, 1))\n",
        "  poly_features_train = poly.fit_transform(X_train.reshape(-1, 1))\n",
        "  poly_features_test = poly.fit_transform(X_test.reshape(-1, 1))\n",
        "  poly_reg_model = LinearRegression()\n",
        "  poly_reg_model.fit(poly_features_train, y_train)\n",
        "  y_pred = poly_reg_model.predict(poly_features_test)\n",
        "  error = mean_squared_error(y_test, y_pred)\n",
        "  errores.append(error)\n"
      ],
      "metadata": {
        "id": "9N-CINTyHyWQ"
      },
      "execution_count": null,
      "outputs": []
    },
    {
      "cell_type": "code",
      "source": [
        "plt.figure(figsize=(10, 6))\n",
        "plt.title(\"Regresión Polinomial Errores y Grados\", size=16)\n",
        "plt.scatter(degree, errores)\n",
        "plt.show()"
      ],
      "metadata": {
        "colab": {
          "base_uri": "https://localhost:8080/",
          "height": 393
        },
        "id": "5LO1EIKAJKvj",
        "outputId": "cb55dbaf-d937-4ed0-dbbc-9cc465369444"
      },
      "execution_count": null,
      "outputs": [
        {
          "output_type": "display_data",
          "data": {
            "text/plain": [
              "<Figure size 720x432 with 1 Axes>"
            ],
            "image/png": "[encoded data removed]"
          },
          "metadata": {
            "needs_background": "light"
          }
        }
      ]
    },
    {
      "cell_type": "markdown",
      "source": [
        "**Actividad 2**: En lugar de usar regresión lineal, utilizen regresión [Ridge](https://scikit-learn.org/stable/modules/generated/sklearn.linear_model.Ridge.html) en scikit learn, y obtengan lo que se pide en la actividad 1."
      ],
      "metadata": {
        "id": "oHZcK24lGkHq"
      }
    },
    {
      "cell_type": "code",
      "source": [
        "X = np.arange(-10,10.2,0.2)\n",
        "y = 1+X+2*X**2+3*X**3 # x"
      ],
      "metadata": {
        "id": "emqJ1MldKLR9"
      },
      "execution_count": null,
      "outputs": []
    },
    {
      "cell_type": "code",
      "source": [
        "X_train, X_test, y_train, y_test = train_test_split(X, \n",
        "                                                    y, test_size=0.3, \n",
        "                                                    random_state=42)"
      ],
      "metadata": {
        "id": "Jp6N7b8GKQqb"
      },
      "execution_count": null,
      "outputs": []
    },
    {
      "cell_type": "code",
      "source": [
        "degree1 = []\n",
        "errores1 = []\n",
        "for d in range(1,11):\n",
        "  poly = PolynomialFeatures(degree=d, include_bias=False)\n",
        "  degree1.append(d)\n",
        "  poly.fit(X.reshape(-1, 1))\n",
        "  poly.transform(X.reshape(-1, 1))\n",
        "  poly_features_train = poly.fit_transform(X_train.reshape(-1, 1))\n",
        "  poly_features_test = poly.fit_transform(X_test.reshape(-1, 1))\n",
        "  poly_reg_model = Ridge(alpha = 0.8)\n",
        "  poly_reg_model.fit(poly_features_train, y_train)\n",
        "  y_pred = poly_reg_model.predict(poly_features_test)\n",
        "  error = mean_squared_error(y_test, y_pred)\n",
        "  errores1.append(error)"
      ],
      "metadata": {
        "colab": {
          "base_uri": "https://localhost:8080/"
        },
        "id": "zipmrEAgKRMj",
        "outputId": "957312f2-b471-4b4b-d788-b846b01b2605"
      },
      "execution_count": null,
      "outputs": [
        {
          "output_type": "stream",
          "name": "stderr",
          "text": [
            "/usr/local/lib/python3.7/dist-packages/sklearn/linear_model/_ridge.py:157: LinAlgWarning: Ill-conditioned matrix (rcond=5.64604e-18): result may not be accurate.\n",
            "  return linalg.solve(A, Xy, sym_pos=True, overwrite_a=True).T\n",
            "/usr/local/lib/python3.7/dist-packages/sklearn/linear_model/_ridge.py:157: LinAlgWarning: Ill-conditioned matrix (rcond=7.24847e-20): result may not be accurate.\n",
            "  return linalg.solve(A, Xy, sym_pos=True, overwrite_a=True).T\n"
          ]
        }
      ]
    },
    {
      "cell_type": "code",
      "source": [
        "plt.figure(figsize=(10, 6))\n",
        "plt.title(\"Regresión Polinomial Errores y Grados\", size=16)\n",
        "plt.scatter(degree1, errores1)\n",
        "plt.show()"
      ],
      "metadata": {
        "colab": {
          "base_uri": "https://localhost:8080/",
          "height": 393
        },
        "id": "oEbO_ET_Ksvf",
        "outputId": "639c6df9-b276-459c-8039-baacb648d732"
      },
      "execution_count": null,
      "outputs": [
        {
          "output_type": "display_data",
          "data": {
            "text/plain": [
              "<Figure size 720x432 with 1 Axes>"
            ],
            "image/png": "[encoded data removed]"
          },
          "metadata": {
            "needs_background": "light"
          }
        }
      ]
    },
    {
      "cell_type": "markdown",
      "source": [
        "**Actividad 3:** De las gráficas anteriores, ¿cual sería el valor óptimo (a ojo de buen cubero) para $d$? ¿Notan alguna diferencia entre ambos modelos de regresión?"
      ],
      "metadata": {
        "id": "btf2GkfezTza"
      }
    },
    {
      "cell_type": "markdown",
      "source": [
        "Ambas gráficas muestran que a ojo de buen cubero, el valor óptimo de d es 3. Esto se debe a que de antemano sabemos que estamos ajustando un polinomio de grado 3. Hay un gran grado de error para los polinomios de grado 1 y 2 en ambos modelos de regresión. \n",
        "\n",
        "En los casos de d mayor o igual a 3 comenzamos a observar sobreajuste"
      ],
      "metadata": {
        "id": "JVI2xB45LDpV"
      }
    },
    {
      "cell_type": "code",
      "source": [
        "print(errores)\n",
        "print(errores1)"
      ],
      "metadata": {
        "colab": {
          "base_uri": "https://localhost:8080/"
        },
        "id": "H1JJDnv3KyPH",
        "outputId": "a118d156-d5fa-419d-8c3e-fdd59bf5c3be"
      },
      "execution_count": null,
      "outputs": [
        {
          "output_type": "stream",
          "name": "stdout",
          "text": [
            "[222095.39597383392, 227966.69203859376, 3.2608767894012835e-26, 5.411338643153904e-23, 5.545440178182847e-22, 1.6508966208846908e-20, 3.2081066226805913e-18, 3.2985128443721786e-17, 2.7005270109922062e-15, 4.2015111352352925e-13]\n",
            "[222076.36876371864, 227957.79907635052, 2.6224532361993615e-05, 2.905407103057399e-05, 0.00011410499249139326, 0.00012542482033805702, 0.0002137433675338576, 0.0002696585046494448, 0.00043166804660204613, 0.00045702343115708977]\n"
          ]
        }
      ]
    },
    {
      "cell_type": "markdown",
      "source": [
        "A simple vista no se nota ninguna diferencia entre los modelos. Sin embargo al imprimir los errores generados vemos que para los primeros dos grados del polinomio el modelo ridge tiene error más bajo. Desde d igual a 3 en adelante, la regresion lineal tiene un grado de error mucho menor. De d igual a 5 en adelante el error de ridge comienza a aumentar. De d igual a 4 en adelante el erorr en linear regression empieza a aumentar. Aquí se presenta el sobreajuste pero para Ridge lo está evitando porque no son errores del estilo e -20"
      ],
      "metadata": {
        "id": "HwqZUCAIL1IT"
      }
    },
    {
      "cell_type": "code",
      "source": [],
      "metadata": {
        "id": "pR2SFGiNNsXy"
      },
      "execution_count": null,
      "outputs": []
    }
  ]
}