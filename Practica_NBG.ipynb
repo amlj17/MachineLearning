{
  "nbformat": 4,
  "nbformat_minor": 0,
  "metadata": {
    "colab": {
      "provenance": []
    },
    "kernelspec": {
      "name": "python3",
      "display_name": "Python 3"
    },
    "language_info": {
      "name": "python"
    }
  },
  "cells": [
    {
      "cell_type": "markdown",
      "source": [
        "Mau, Marco, Fran, Andrés, Alfredo (El_bistec)"
      ],
      "metadata": {
        "id": "T9KB1CHher7n"
      }
    },
    {
      "cell_type": "code",
      "execution_count": null,
      "metadata": {
        "id": "3afUO9QKaeF9"
      },
      "outputs": [],
      "source": [
        "from sklearn.datasets import load_iris\n",
        "from sklearn.model_selection import train_test_split\n",
        "from sklearn.naive_bayes import GaussianNB\n",
        "from sklearn.metrics import accuracy_score"
      ]
    },
    {
      "cell_type": "code",
      "source": [
        "#cargamos y separamos\n",
        "X, y = load_iris(return_X_y=True)\n",
        "X_train, X_test, y_train, y_test = train_test_split(X, y, test_size=0.20, random_state=0)\n",
        "\n",
        "#definimos modelo\n",
        "gnb = GaussianNB()\n",
        "gnb.fit(X_train, y_train)\n",
        "\n",
        "y_pred = gnb.predict(X_train)\n",
        "train_acc = accuracy_score(y_train, y_pred)\n",
        "\n",
        "test_y = gnb.predict(X_test)\n",
        "test_acc = accuracy_score(y_test, test_y)\n"
      ],
      "metadata": {
        "id": "GeRRKe8EaetK"
      },
      "execution_count": null,
      "outputs": []
    },
    {
      "cell_type": "code",
      "source": [
        "#Comparamos los valores de entrenamiento y prueba\n",
        "print(train_acc)\n",
        "print(test_acc)"
      ],
      "metadata": {
        "colab": {
          "base_uri": "https://localhost:8080/"
        },
        "id": "sIkTt1l1xaPI",
        "outputId": "0b8aa4c2-0939-4a63-9fc6-a115efb0aff4"
      },
      "execution_count": null,
      "outputs": [
        {
          "output_type": "stream",
          "name": "stdout",
          "text": [
            "0.95\n",
            "0.9666666666666667\n"
          ]
        }
      ]
    }
  ]
}