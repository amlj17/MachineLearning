{
  "nbformat": 4,
  "nbformat_minor": 0,
  "metadata": {
    "colab": {
      "provenance": []
    },
    "kernelspec": {
      "name": "python3",
      "display_name": "Python 3"
    },
    "language_info": {
      "name": "python"
    }
  },
  "cells": [
    {
      "cell_type": "markdown",
      "source": [
        "## Código"
      ],
      "metadata": {
        "id": "WfauywA80Zk-"
      }
    },
    {
      "cell_type": "code",
      "execution_count": 1,
      "metadata": {
        "id": "hiP9hgU1u8Fv"
      },
      "outputs": [],
      "source": [
        "# librerias para implementar los modelos de ML\n",
        "from sklearn.linear_model import Ridge, LinearRegression\n",
        "from sklearn.preprocessing import PolynomialFeatures\n",
        "from sklearn.metrics import mean_squared_error\n",
        "from sklearn.model_selection import train_test_split\n",
        "\n",
        "# librerias auxiliares\n",
        "import numpy as np\n",
        "import matplotlib.pyplot as plt"
      ]
    },
    {
      "cell_type": "markdown",
      "source": [
        "Recuerden que la regresión polinomial en una variable tiene la forma:\n",
        "$$y = \\theta_0 + \\theta_1 x + \\theta_2 x^2 +...+\\theta_nx^n  $$"
      ],
      "metadata": {
        "id": "4VOqjLxMCwPH"
      }
    },
    {
      "cell_type": "code",
      "source": [
        "X = np.arange(-10,10.2,0.2)\n",
        "y = 1+X+2*X**2+3*X**3 # x"
      ],
      "metadata": {
        "id": "mfjNl_7Lv2aZ"
      },
      "execution_count": 2,
      "outputs": []
    },
    {
      "cell_type": "code",
      "source": [
        "plt.plot(X,y)\n",
        "plt.show()"
      ],
      "metadata": {
        "id": "2ZzW0Ja30rSc"
      },
      "execution_count": null,
      "outputs": []
    },
    {
      "cell_type": "markdown",
      "source": [
        "Vamos a empezar definiendo el modelo polinomial con la función `PolynomialFeatures`. De [su documentación](https://scikit-learn.org/stable/modules/generated/sklearn.preprocessing.PolynomialFeatures.html?highlight=polynomialfeatures#sklearn.preprocessing.PolynomialFeatures) en scikit learn:\n",
        "\n",
        "\n",
        "> Generate a new feature matrix consisting of all polynomial combinations of the features with degree less than or equal to the specified degree. For example, if an input sample is two dimensional and of the form [a, b], the degree-2 polynomial features are [1, a, b, a^2, ab, b^2].\n",
        "\n",
        "\n",
        "Creamos la instancia del transformador, y después *ajustamos* y *transformamos* los datos."
      ],
      "metadata": {
        "id": "mZynS--hD7Yh"
      }
    },
    {
      "cell_type": "code",
      "source": [
        "X_train, X_test, y_train, y_test = train_test_split(X, \n",
        "                                                    y, test_size=0.3, \n",
        "                                                    random_state=42)"
      ],
      "metadata": {
        "id": "xqhjbc-rBcid"
      },
      "execution_count": 17,
      "outputs": []
    },
    {
      "cell_type": "code",
      "source": [
        "poly = PolynomialFeatures(degree=1, include_bias=False)"
      ],
      "metadata": {
        "id": "5IbiOKVF1CFv"
      },
      "execution_count": 28,
      "outputs": []
    },
    {
      "cell_type": "code",
      "source": [
        "poly.fit(X.reshape(-1, 1))"
      ],
      "metadata": {
        "colab": {
          "base_uri": "https://localhost:8080/"
        },
        "id": "NHHDWWkXFYXv",
        "outputId": "f92704a4-63f3-448f-a57d-b9e71dd9d26e"
      },
      "execution_count": 29,
      "outputs": [
        {
          "output_type": "execute_result",
          "data": {
            "text/plain": [
              "PolynomialFeatures(degree=1, include_bias=False)"
            ]
          },
          "metadata": {},
          "execution_count": 29
        }
      ]
    },
    {
      "cell_type": "code",
      "source": [
        "poly.transform(X.reshape(-1, 1))"
      ],
      "metadata": {
        "id": "1kNk3kX_Fcr5"
      },
      "execution_count": null,
      "outputs": []
    },
    {
      "cell_type": "code",
      "source": [
        "poly_features_train = poly.fit_transform(X_train.reshape(-1, 1))"
      ],
      "metadata": {
        "id": "aRchANzr1OQE"
      },
      "execution_count": 30,
      "outputs": []
    },
    {
      "cell_type": "code",
      "source": [
        "poly_features_test = poly.fit_transform(X_test.reshape(-1, 1))"
      ],
      "metadata": {
        "id": "iEkioU8HEvD0"
      },
      "execution_count": 31,
      "outputs": []
    },
    {
      "cell_type": "markdown",
      "source": [
        "Realizamos nuestras particiones de prueba y entrenamiento:"
      ],
      "metadata": {
        "id": "n8vV_EztFFEN"
      }
    },
    {
      "cell_type": "markdown",
      "source": [
        "Declaramos nuestro método:"
      ],
      "metadata": {
        "id": "I5TtW0lVFKEU"
      }
    },
    {
      "cell_type": "code",
      "source": [
        "poly_reg_model = LinearRegression()"
      ],
      "metadata": {
        "id": "7Rf38Of02WKD"
      },
      "execution_count": 32,
      "outputs": []
    },
    {
      "cell_type": "code",
      "source": [
        "poly_reg_model.fit(poly_features_train, y_train)"
      ],
      "metadata": {
        "colab": {
          "base_uri": "https://localhost:8080/"
        },
        "id": "c0WhaCOsABRE",
        "outputId": "7e4a6ac1-081a-4688-914f-16925add41e2"
      },
      "execution_count": 33,
      "outputs": [
        {
          "output_type": "execute_result",
          "data": {
            "text/plain": [
              "LinearRegression()"
            ]
          },
          "metadata": {},
          "execution_count": 33
        }
      ]
    },
    {
      "cell_type": "code",
      "source": [
        "y_pred = poly_reg_model.predict(poly_features_test)\n",
        "y_pred"
      ],
      "metadata": {
        "id": "sTVOd8I4AGGe"
      },
      "execution_count": null,
      "outputs": []
    },
    {
      "cell_type": "code",
      "source": [
        "error = mean_squared_error(y_test, y_pred)\n",
        "error"
      ],
      "metadata": {
        "colab": {
          "base_uri": "https://localhost:8080/"
        },
        "id": "1H-Jef4ABOpn",
        "outputId": "12b7dfdf-cb6f-4588-d55c-9e5e6465ba43"
      },
      "execution_count": 35,
      "outputs": [
        {
          "output_type": "execute_result",
          "data": {
            "text/plain": [
              "222095.39597383392"
            ]
          },
          "metadata": {},
          "execution_count": 35
        }
      ]
    },
    {
      "cell_type": "code",
      "source": [
        "X_test.shape"
      ],
      "metadata": {
        "colab": {
          "base_uri": "https://localhost:8080/"
        },
        "id": "QslYx3juEPJg",
        "outputId": "94830a62-4e23-4e18-f45c-7f4542353b64"
      },
      "execution_count": 24,
      "outputs": [
        {
          "output_type": "execute_result",
          "data": {
            "text/plain": [
              "(31,)"
            ]
          },
          "metadata": {},
          "execution_count": 24
        }
      ]
    },
    {
      "cell_type": "code",
      "source": [
        "y_test.shape"
      ],
      "metadata": {
        "colab": {
          "base_uri": "https://localhost:8080/"
        },
        "id": "y6p6228dEUrH",
        "outputId": "7b727d85-a119-43fa-c23d-23873fb711a0"
      },
      "execution_count": 16,
      "outputs": [
        {
          "output_type": "execute_result",
          "data": {
            "text/plain": [
              "(31,)"
            ]
          },
          "metadata": {},
          "execution_count": 16
        }
      ]
    },
    {
      "cell_type": "code",
      "source": [
        "plt.figure(figsize=(10, 6))\n",
        "plt.title(\"Regresión Polinomial\", size=16)\n",
        "plt.scatter(X_test, y_test)\n",
        "plt.scatter(X_test, y_pred)\n",
        "plt.show()"
      ],
      "metadata": {
        "colab": {
          "base_uri": "https://localhost:8080/",
          "height": 393
        },
        "id": "-mWM3lbYALSk",
        "outputId": "74e4bce6-c5da-422e-a73c-b1463d4b9a4d"
      },
      "execution_count": 36,
      "outputs": [
        {
          "output_type": "display_data",
          "data": {
            "text/plain": [
              "<Figure size 720x432 with 1 Axes>"
            ],
            "image/png": "[encoded data removed]"
          },
          "metadata": {
            "needs_background": "light"
          }
        }
      ]
    },
    {
      "cell_type": "markdown",
      "source": [
        "## Actividades"
      ],
      "metadata": {
        "id": "A9je0vqj0V1-"
      }
    },
    {
      "cell_type": "markdown",
      "source": [
        "**Actividad #1**: Dibujar, con Python, la gráfica del Error Cuadrático Medio generado al iterar el grado $d$ del polinomio entre 1 y 10. Obtener los valores de $\\theta$ que determina el modelo de regresión polinomial para cada valor de $d$."
      ],
      "metadata": {
        "id": "jYbt39BAGKX-"
      }
    },
    {
      "cell_type": "markdown",
      "source": [
        "**Actividad 2**: En lugar de usar regresión lineal, utilizen regresión [Ridge](https://scikit-learn.org/stable/modules/generated/sklearn.linear_model.Ridge.html) en scikit learn, y obtengan lo que se pide en la actividad 1."
      ],
      "metadata": {
        "id": "oHZcK24lGkHq"
      }
    },
    {
      "cell_type": "markdown",
      "source": [
        "**Actividad 3:** De las gráficas anteriores, ¿cual sería el valor óptimo (a ojo de buen cubero) para $d$? ¿Notan alguna diferencia entre ambos modelos de regresión?"
      ],
      "metadata": {
        "id": "btf2GkfezTza"
      }
    }
  ]
}