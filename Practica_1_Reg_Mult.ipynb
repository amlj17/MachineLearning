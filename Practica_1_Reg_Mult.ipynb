{
  "nbformat": 4,
  "nbformat_minor": 0,
  "metadata": {
    "colab": {
      "provenance": []
    },
    "kernelspec": {
      "name": "python3",
      "display_name": "Python 3"
    },
    "language_info": {
      "name": "python"
    }
  },
  "cells": [
    {
      "cell_type": "code",
      "execution_count": 1,
      "metadata": {
        "id": "BdZVYlkwTbgk"
      },
      "outputs": [],
      "source": [
        "import pandas as pd\n",
        "import numpy as np\n",
        "import matplotlib.pyplot as plt"
      ]
    },
    {
      "cell_type": "code",
      "source": [
        "df = pd.read_csv(\"Fish.csv\")\n",
        "df.head()"
      ],
      "metadata": {
        "colab": {
          "base_uri": "https://localhost:8080/",
          "height": 206
        },
        "id": "-nkYeFHRTsSx",
        "outputId": "8cad8a43-c730-40dc-cfd4-55cc2e405414"
      },
      "execution_count": 2,
      "outputs": [
        {
          "output_type": "execute_result",
          "data": {
            "text/plain": [
              "  Species  Weight  Length1  Length2  Length3   Height   Width\n",
              "0   Bream   242.0     23.2     25.4     30.0  11.5200  4.0200\n",
              "1   Bream   290.0     24.0     26.3     31.2  12.4800  4.3056\n",
              "2   Bream   340.0     23.9     26.5     31.1  12.3778  4.6961\n",
              "3   Bream   363.0     26.3     29.0     33.5  12.7300  4.4555\n",
              "4   Bream   430.0     26.5     29.0     34.0  12.4440  5.1340"
            ],
            "text/html": [
              "\n",
              "  <div id=\"df-bd931393-8844-4c2e-9247-d2229e8a3fc0\">\n",
              "    <div class=\"colab-df-container\">\n",
              "      <div>\n",
              "<style scoped>\n",
              "    .dataframe tbody tr th:only-of-type {\n",
              "        vertical-align: middle;\n",
              "    }\n",
              "\n",
              "    .dataframe tbody tr th {\n",
              "        vertical-align: top;\n",
              "    }\n",
              "\n",
              "    .dataframe thead th {\n",
              "        text-align: right;\n",
              "    }\n",
              "</style>\n",
              "<table border=\"1\" class=\"dataframe\">\n",
              "  <thead>\n",
              "    <tr style=\"text-align: right;\">\n",
              "      <th></th>\n",
              "      <th>Species</th>\n",
              "      <th>Weight</th>\n",
              "      <th>Length1</th>\n",
              "      <th>Length2</th>\n",
              "      <th>Length3</th>\n",
              "      <th>Height</th>\n",
              "      <th>Width</th>\n",
              "    </tr>\n",
              "  </thead>\n",
              "  <tbody>\n",
              "    <tr>\n",
              "      <th>0</th>\n",
              "      <td>Bream</td>\n",
              "      <td>242.0</td>\n",
              "      <td>23.2</td>\n",
              "      <td>25.4</td>\n",
              "      <td>30.0</td>\n",
              "      <td>11.5200</td>\n",
              "      <td>4.0200</td>\n",
              "    </tr>\n",
              "    <tr>\n",
              "      <th>1</th>\n",
              "      <td>Bream</td>\n",
              "      <td>290.0</td>\n",
              "      <td>24.0</td>\n",
              "      <td>26.3</td>\n",
              "      <td>31.2</td>\n",
              "      <td>12.4800</td>\n",
              "      <td>4.3056</td>\n",
              "    </tr>\n",
              "    <tr>\n",
              "      <th>2</th>\n",
              "      <td>Bream</td>\n",
              "      <td>340.0</td>\n",
              "      <td>23.9</td>\n",
              "      <td>26.5</td>\n",
              "      <td>31.1</td>\n",
              "      <td>12.3778</td>\n",
              "      <td>4.6961</td>\n",
              "    </tr>\n",
              "    <tr>\n",
              "      <th>3</th>\n",
              "      <td>Bream</td>\n",
              "      <td>363.0</td>\n",
              "      <td>26.3</td>\n",
              "      <td>29.0</td>\n",
              "      <td>33.5</td>\n",
              "      <td>12.7300</td>\n",
              "      <td>4.4555</td>\n",
              "    </tr>\n",
              "    <tr>\n",
              "      <th>4</th>\n",
              "      <td>Bream</td>\n",
              "      <td>430.0</td>\n",
              "      <td>26.5</td>\n",
              "      <td>29.0</td>\n",
              "      <td>34.0</td>\n",
              "      <td>12.4440</td>\n",
              "      <td>5.1340</td>\n",
              "    </tr>\n",
              "  </tbody>\n",
              "</table>\n",
              "</div>\n",
              "      <button class=\"colab-df-convert\" onclick=\"convertToInteractive('df-bd931393-8844-4c2e-9247-d2229e8a3fc0')\"\n",
              "              title=\"Convert this dataframe to an interactive table.\"\n",
              "              style=\"display:none;\">\n",
              "        \n",
              "  <svg xmlns=\"http://www.w3.org/2000/svg\" height=\"24px\"viewBox=\"0 0 24 24\"\n",
              "       width=\"24px\">\n",
              "    <path d=\"M0 0h24v24H0V0z\" fill=\"none\"/>\n",
              "    <path d=\"M18.56 5.44l.94 2.06.94-2.06 2.06-.94-2.06-.94-.94-2.06-.94 2.06-2.06.94zm-11 1L8.5 8.5l.94-2.06 2.06-.94-2.06-.94L8.5 2.5l-.94 2.06-2.06.94zm10 10l.94 2.06.94-2.06 2.06-.94-2.06-.94-.94-2.06-.94 2.06-2.06.94z\"/><path d=\"M17.41 7.96l-1.37-1.37c-.4-.4-.92-.59-1.43-.59-.52 0-1.04.2-1.43.59L10.3 9.45l-7.72 7.72c-.78.78-.78 2.05 0 2.83L4 21.41c.39.39.9.59 1.41.59.51 0 1.02-.2 1.41-.59l7.78-7.78 2.81-2.81c.8-.78.8-2.07 0-2.86zM5.41 20L4 18.59l7.72-7.72 1.47 1.35L5.41 20z\"/>\n",
              "  </svg>\n",
              "      </button>\n",
              "      \n",
              "  <style>\n",
              "    .colab-df-container {\n",
              "      display:flex;\n",
              "      flex-wrap:wrap;\n",
              "      gap: 12px;\n",
              "    }\n",
              "\n",
              "    .colab-df-convert {\n",
              "      background-color: #E8F0FE;\n",
              "      border: none;\n",
              "      border-radius: 50%;\n",
              "      cursor: pointer;\n",
              "      display: none;\n",
              "      fill: #1967D2;\n",
              "      height: 32px;\n",
              "      padding: 0 0 0 0;\n",
              "      width: 32px;\n",
              "    }\n",
              "\n",
              "    .colab-df-convert:hover {\n",
              "      background-color: #E2EBFA;\n",
              "      box-shadow: 0px 1px 2px rgba(60, 64, 67, 0.3), 0px 1px 3px 1px rgba(60, 64, 67, 0.15);\n",
              "      fill: #174EA6;\n",
              "    }\n",
              "\n",
              "    [theme=dark] .colab-df-convert {\n",
              "      background-color: #3B4455;\n",
              "      fill: #D2E3FC;\n",
              "    }\n",
              "\n",
              "    [theme=dark] .colab-df-convert:hover {\n",
              "      background-color: #434B5C;\n",
              "      box-shadow: 0px 1px 3px 1px rgba(0, 0, 0, 0.15);\n",
              "      filter: drop-shadow(0px 1px 2px rgba(0, 0, 0, 0.3));\n",
              "      fill: #FFFFFF;\n",
              "    }\n",
              "  </style>\n",
              "\n",
              "      <script>\n",
              "        const buttonEl =\n",
              "          document.querySelector('#df-bd931393-8844-4c2e-9247-d2229e8a3fc0 button.colab-df-convert');\n",
              "        buttonEl.style.display =\n",
              "          google.colab.kernel.accessAllowed ? 'block' : 'none';\n",
              "\n",
              "        async function convertToInteractive(key) {\n",
              "          const element = document.querySelector('#df-bd931393-8844-4c2e-9247-d2229e8a3fc0');\n",
              "          const dataTable =\n",
              "            await google.colab.kernel.invokeFunction('convertToInteractive',\n",
              "                                                     [key], {});\n",
              "          if (!dataTable) return;\n",
              "\n",
              "          const docLinkHtml = 'Like what you see? Visit the ' +\n",
              "            '<a target=\"_blank\" href=https://colab.research.google.com/notebooks/data_table.ipynb>data table notebook</a>'\n",
              "            + ' to learn more about interactive tables.';\n",
              "          element.innerHTML = '';\n",
              "          dataTable['output_type'] = 'display_data';\n",
              "          await google.colab.output.renderOutput(dataTable, element);\n",
              "          const docLink = document.createElement('div');\n",
              "          docLink.innerHTML = docLinkHtml;\n",
              "          element.appendChild(docLink);\n",
              "        }\n",
              "      </script>\n",
              "    </div>\n",
              "  </div>\n",
              "  "
            ]
          },
          "metadata": {},
          "execution_count": 2
        }
      ]
    },
    {
      "cell_type": "code",
      "source": [
        "df = pd.concat([pd.Series(1,index=df.index, name = \"bias\"), df], axis=1)"
      ],
      "metadata": {
        "id": "PUltATENT-Jk"
      },
      "execution_count": 3,
      "outputs": []
    },
    {
      "cell_type": "code",
      "source": [
        "X = df.drop(columns=[\"Species\", \"Weight\"])\n",
        "Y = df.iloc[:,2]"
      ],
      "metadata": {
        "id": "8miBLBnWUBuS"
      },
      "execution_count": 4,
      "outputs": []
    },
    {
      "cell_type": "code",
      "source": [
        "for column in X:\n",
        "  X[column] = X[column]/np.max(X[column])\n",
        "\n",
        "X.head()"
      ],
      "metadata": {
        "colab": {
          "base_uri": "https://localhost:8080/",
          "height": 206
        },
        "id": "U1hY7sA6UFmE",
        "outputId": "cac5df59-127e-472a-f8cd-f3e0f78ff4b9"
      },
      "execution_count": 5,
      "outputs": [
        {
          "output_type": "execute_result",
          "data": {
            "text/plain": [
              "   bias   Length1   Length2   Length3    Height     Width\n",
              "0   1.0  0.393220  0.400631  0.441176  0.607691  0.493736\n",
              "1   1.0  0.406780  0.414826  0.458824  0.658332  0.528814\n",
              "2   1.0  0.405085  0.417981  0.457353  0.652941  0.576775\n",
              "3   1.0  0.445763  0.457413  0.492647  0.671520  0.547224\n",
              "4   1.0  0.449153  0.457413  0.500000  0.656433  0.630558"
            ],
            "text/html": [
              "\n",
              "  <div id=\"df-f50d732f-d990-46f1-9489-2edf19ae3f37\">\n",
              "    <div class=\"colab-df-container\">\n",
              "      <div>\n",
              "<style scoped>\n",
              "    .dataframe tbody tr th:only-of-type {\n",
              "        vertical-align: middle;\n",
              "    }\n",
              "\n",
              "    .dataframe tbody tr th {\n",
              "        vertical-align: top;\n",
              "    }\n",
              "\n",
              "    .dataframe thead th {\n",
              "        text-align: right;\n",
              "    }\n",
              "</style>\n",
              "<table border=\"1\" class=\"dataframe\">\n",
              "  <thead>\n",
              "    <tr style=\"text-align: right;\">\n",
              "      <th></th>\n",
              "      <th>bias</th>\n",
              "      <th>Length1</th>\n",
              "      <th>Length2</th>\n",
              "      <th>Length3</th>\n",
              "      <th>Height</th>\n",
              "      <th>Width</th>\n",
              "    </tr>\n",
              "  </thead>\n",
              "  <tbody>\n",
              "    <tr>\n",
              "      <th>0</th>\n",
              "      <td>1.0</td>\n",
              "      <td>0.393220</td>\n",
              "      <td>0.400631</td>\n",
              "      <td>0.441176</td>\n",
              "      <td>0.607691</td>\n",
              "      <td>0.493736</td>\n",
              "    </tr>\n",
              "    <tr>\n",
              "      <th>1</th>\n",
              "      <td>1.0</td>\n",
              "      <td>0.406780</td>\n",
              "      <td>0.414826</td>\n",
              "      <td>0.458824</td>\n",
              "      <td>0.658332</td>\n",
              "      <td>0.528814</td>\n",
              "    </tr>\n",
              "    <tr>\n",
              "      <th>2</th>\n",
              "      <td>1.0</td>\n",
              "      <td>0.405085</td>\n",
              "      <td>0.417981</td>\n",
              "      <td>0.457353</td>\n",
              "      <td>0.652941</td>\n",
              "      <td>0.576775</td>\n",
              "    </tr>\n",
              "    <tr>\n",
              "      <th>3</th>\n",
              "      <td>1.0</td>\n",
              "      <td>0.445763</td>\n",
              "      <td>0.457413</td>\n",
              "      <td>0.492647</td>\n",
              "      <td>0.671520</td>\n",
              "      <td>0.547224</td>\n",
              "    </tr>\n",
              "    <tr>\n",
              "      <th>4</th>\n",
              "      <td>1.0</td>\n",
              "      <td>0.449153</td>\n",
              "      <td>0.457413</td>\n",
              "      <td>0.500000</td>\n",
              "      <td>0.656433</td>\n",
              "      <td>0.630558</td>\n",
              "    </tr>\n",
              "  </tbody>\n",
              "</table>\n",
              "</div>\n",
              "      <button class=\"colab-df-convert\" onclick=\"convertToInteractive('df-f50d732f-d990-46f1-9489-2edf19ae3f37')\"\n",
              "              title=\"Convert this dataframe to an interactive table.\"\n",
              "              style=\"display:none;\">\n",
              "        \n",
              "  <svg xmlns=\"http://www.w3.org/2000/svg\" height=\"24px\"viewBox=\"0 0 24 24\"\n",
              "       width=\"24px\">\n",
              "    <path d=\"M0 0h24v24H0V0z\" fill=\"none\"/>\n",
              "    <path d=\"M18.56 5.44l.94 2.06.94-2.06 2.06-.94-2.06-.94-.94-2.06-.94 2.06-2.06.94zm-11 1L8.5 8.5l.94-2.06 2.06-.94-2.06-.94L8.5 2.5l-.94 2.06-2.06.94zm10 10l.94 2.06.94-2.06 2.06-.94-2.06-.94-.94-2.06-.94 2.06-2.06.94z\"/><path d=\"M17.41 7.96l-1.37-1.37c-.4-.4-.92-.59-1.43-.59-.52 0-1.04.2-1.43.59L10.3 9.45l-7.72 7.72c-.78.78-.78 2.05 0 2.83L4 21.41c.39.39.9.59 1.41.59.51 0 1.02-.2 1.41-.59l7.78-7.78 2.81-2.81c.8-.78.8-2.07 0-2.86zM5.41 20L4 18.59l7.72-7.72 1.47 1.35L5.41 20z\"/>\n",
              "  </svg>\n",
              "      </button>\n",
              "      \n",
              "  <style>\n",
              "    .colab-df-container {\n",
              "      display:flex;\n",
              "      flex-wrap:wrap;\n",
              "      gap: 12px;\n",
              "    }\n",
              "\n",
              "    .colab-df-convert {\n",
              "      background-color: #E8F0FE;\n",
              "      border: none;\n",
              "      border-radius: 50%;\n",
              "      cursor: pointer;\n",
              "      display: none;\n",
              "      fill: #1967D2;\n",
              "      height: 32px;\n",
              "      padding: 0 0 0 0;\n",
              "      width: 32px;\n",
              "    }\n",
              "\n",
              "    .colab-df-convert:hover {\n",
              "      background-color: #E2EBFA;\n",
              "      box-shadow: 0px 1px 2px rgba(60, 64, 67, 0.3), 0px 1px 3px 1px rgba(60, 64, 67, 0.15);\n",
              "      fill: #174EA6;\n",
              "    }\n",
              "\n",
              "    [theme=dark] .colab-df-convert {\n",
              "      background-color: #3B4455;\n",
              "      fill: #D2E3FC;\n",
              "    }\n",
              "\n",
              "    [theme=dark] .colab-df-convert:hover {\n",
              "      background-color: #434B5C;\n",
              "      box-shadow: 0px 1px 3px 1px rgba(0, 0, 0, 0.15);\n",
              "      filter: drop-shadow(0px 1px 2px rgba(0, 0, 0, 0.3));\n",
              "      fill: #FFFFFF;\n",
              "    }\n",
              "  </style>\n",
              "\n",
              "      <script>\n",
              "        const buttonEl =\n",
              "          document.querySelector('#df-f50d732f-d990-46f1-9489-2edf19ae3f37 button.colab-df-convert');\n",
              "        buttonEl.style.display =\n",
              "          google.colab.kernel.accessAllowed ? 'block' : 'none';\n",
              "\n",
              "        async function convertToInteractive(key) {\n",
              "          const element = document.querySelector('#df-f50d732f-d990-46f1-9489-2edf19ae3f37');\n",
              "          const dataTable =\n",
              "            await google.colab.kernel.invokeFunction('convertToInteractive',\n",
              "                                                     [key], {});\n",
              "          if (!dataTable) return;\n",
              "\n",
              "          const docLinkHtml = 'Like what you see? Visit the ' +\n",
              "            '<a target=\"_blank\" href=https://colab.research.google.com/notebooks/data_table.ipynb>data table notebook</a>'\n",
              "            + ' to learn more about interactive tables.';\n",
              "          element.innerHTML = '';\n",
              "          dataTable['output_type'] = 'display_data';\n",
              "          await google.colab.output.renderOutput(dataTable, element);\n",
              "          const docLink = document.createElement('div');\n",
              "          docLink.innerHTML = docLinkHtml;\n",
              "          element.appendChild(docLink);\n",
              "        }\n",
              "      </script>\n",
              "    </div>\n",
              "  </div>\n",
              "  "
            ]
          },
          "metadata": {},
          "execution_count": 5
        }
      ]
    },
    {
      "cell_type": "code",
      "source": [
        "theta = np.array([0]*len(X.columns))\n",
        "print(theta)"
      ],
      "metadata": {
        "colab": {
          "base_uri": "https://localhost:8080/"
        },
        "id": "Guyvmg3GUJYw",
        "outputId": "f72e987a-6f84-4eac-ed0b-5a3d5dd491b8"
      },
      "execution_count": 6,
      "outputs": [
        {
          "output_type": "stream",
          "name": "stdout",
          "text": [
            "[0 0 0 0 0 0]\n"
          ]
        }
      ]
    },
    {
      "cell_type": "code",
      "source": [
        "m = len(df)\n",
        "print(m)"
      ],
      "metadata": {
        "colab": {
          "base_uri": "https://localhost:8080/"
        },
        "id": "tb9jnW_-UMQN",
        "outputId": "c9cc980e-6c1d-4778-dca6-b6a3f16dd35e"
      },
      "execution_count": 7,
      "outputs": [
        {
          "output_type": "stream",
          "name": "stdout",
          "text": [
            "159\n"
          ]
        }
      ]
    },
    {
      "cell_type": "code",
      "source": [
        "def hipotesis(theta, X):\n",
        "  return theta*X"
      ],
      "metadata": {
        "id": "bYWc5j5uUUZ7"
      },
      "execution_count": 8,
      "outputs": []
    },
    {
      "cell_type": "code",
      "source": [
        "def funcion_costo(X, Y, theta):\n",
        "  y1 = hipotesis(theta, X)\n",
        "  y1 = np.sum(y1, axis=1)\n",
        "  return sum(np.sqrt((y1-Y)**2))/(2*m)"
      ],
      "metadata": {
        "id": "DrxAXarDUV57"
      },
      "execution_count": 9,
      "outputs": []
    },
    {
      "cell_type": "code",
      "source": [
        "def gradiente_descendiente(X, Y, theta, eta):\n",
        "  y1 = hipotesis(theta, X)\n",
        "  y1 = np.sum(y1, axis=1)\n",
        "  for c in range(0, len(X.columns)):\n",
        "    theta[c] = theta[c] - eta*(sum((y1-Y)*X.iloc[:,c])/len(X))\n",
        "  j = funcion_costo(X, Y, theta) #variable que alberga la func de costo\n",
        "  return j, theta"
      ],
      "metadata": {
        "id": "1Cp816ffUZ4x"
      },
      "execution_count": 10,
      "outputs": []
    },
    {
      "cell_type": "code",
      "source": [
        "tol = 0.00001\n",
        "j_ant = 0\n",
        "J = [] #guarda la funcion de costo en cada iteracion\n",
        "j_nuevo, theta = gradiente_descendiente(X,Y, theta, 0.05)\n",
        "J.append(j_nuevo)\n",
        "resta = np.abs(j_ant-j_nuevo)\n",
        "while (resta >= tol):\n",
        "  j_ant = j_nuevo\n",
        "  j_nuevo, theta = gradiente_descendiente(X, Y, theta, 0.05)\n",
        "  J.append(j_nuevo)\n",
        "  resta = np.abs(j_nuevo-j_ant)"
      ],
      "metadata": {
        "id": "1_KhA-KGWYZC"
      },
      "execution_count": 11,
      "outputs": []
    },
    {
      "cell_type": "code",
      "source": [
        "print(J)"
      ],
      "metadata": {
        "colab": {
          "base_uri": "https://localhost:8080/"
        },
        "id": "jYZreCLsb_N1",
        "outputId": "b818a5cc-dfea-4dfc-d101-ec2be80aca33"
      },
      "execution_count": 12,
      "outputs": [
        {
          "output_type": "stream",
          "name": "stdout",
          "text": [
            "[177.5379885925611, 159.75621685756022, 145.36323741659368, 134.54112018548233, 127.48426128914508, 122.3299998748105, 118.57514743392305, 115.50835801756925, 113.07242866181528, 111.56464725347075, 110.81914411160784, 110.29481835806887, 110.0138067364332, 109.78509514340101, 109.53696206018414, 109.35288003091682, 109.21346071557873, 109.07404140024056, 108.95838226003289, 108.73894953491948, 108.51951680980608, 108.3507312802614, 108.22399884590583, 108.03759101918155, 107.8599540384486, 107.69511490932248, 107.53232630194171, 107.37491025612157, 107.21749421030142, 107.06007816448127, 106.91297467907603, 106.76739474560154, 106.6346845741413, 106.5022870249144, 106.36988947568751, 106.08969318432224, 105.80949689295696, 105.52930060159171, 105.24910431022644, 104.96890801886113, 104.68871172749584, 104.40851543613061, 104.1283191447653, 103.84812285340008, 103.56792656203481, 103.28773027066954, 103.00753397930421, 102.727337687939, 102.44714139657373, 102.16694510520838, 101.88674881384314, 101.6065525224779, 101.3263562311126, 101.04615993974734, 100.76596364838208, 100.48576735701678, 100.20557106565153, 99.93070988929027, 99.66130855208155, 99.38960846726035, 99.11790838243908, 98.84620829761799, 98.5745082127967, 98.30280812797545, 98.03226818070102, 97.76412208890464, 97.49597599710823, 97.22782990531178, 96.9596838135153, 96.69153772171889, 96.42339162992243, 96.15524553812602, 95.88709944632961, 95.60123692834006, 95.33362709570702, 95.06964101058972, 94.78370246524315, 94.51971638012591, 94.25573029500865, 93.99174420989145, 93.7058056645448, 93.44181957942757, 93.1778334943103, 92.89189494896372, 92.62790886384653, 92.36392277872925, 92.09993669361205, 91.81399814826543, 91.55001206314816, 91.28602597803092, 91.00008743268437, 90.73610134756709, 90.47273361031303, 90.2136032802129, 89.92801623535136, 89.66888590525119, 89.58900085816984, 89.43082622520063, 89.2726515922315, 89.14021515348465, 88.98204052051547, 88.9021554734341, 88.74398084046493, 88.58580620749575, 88.42763157452654, 88.34774652744517, 88.18957189447602, 88.03139726150678, 87.89896082275997, 87.74078618979081, 87.63444442794814, 87.4762697949789, 87.34383335623207, 87.18565872326288, 87.10577367618158, 86.9475990432124, 86.78942441024311, 86.63124977727401, 86.55136473019267, 86.39319009722344, 86.23501546425426, 86.07684083128507, 86.1762010672226, 86.01802643425343, 85.85985180128421, 85.701677168315, 85.54350253534587, 85.56457318539546, 85.40639855242632, 85.42746920247596, 85.26929456950678, 85.11111993653756, 85.13219058658723, 84.97401595361802, 84.99508660366766, 84.83691197069848, 84.85798262074813, 84.699807987779, 84.72105811037284, 84.56270400485943, 84.58581960021743, 84.42560002193991, 84.26742538897074, 84.29019453938679, 84.13032140605118, 84.15495602923134, 83.9945694785562, 84.01971751907594, 83.85933096840073, 83.88447900892048, 83.7240924582453, 83.74924049876506, 83.58885394808989, 83.61400198860969, 83.45361543793446, 83.29322888725923, 83.318376927779, 83.15799037710379, 83.18313841762355, 83.02275186694841, 83.04789990746815, 82.88751335679295, 82.91460308701564, 82.75257584725097, 82.78237250685747, 82.62034526709277, 82.45831802732825, 82.48811468693465, 82.32608744717001, 82.35588410677649, 82.19385686701189, 82.2236535266183, 82.03182962724723, 82.06162628685371, 82.09142294646016, 81.8995990470891, 81.92939570669554, 81.959192366302, 81.76736846693093, 81.7971651265374, 81.60534122716633, 81.63513788677274, 81.66493454637919, 81.47311064700811, 81.50290730661457, 81.50290730661457]\n"
          ]
        }
      ]
    },
    {
      "cell_type": "code",
      "source": [
        "print(j_nuevo)"
      ],
      "metadata": {
        "colab": {
          "base_uri": "https://localhost:8080/"
        },
        "id": "JxaLvcMBcr5y",
        "outputId": "afd1ef2b-4d76-4244-9463-1b81825cb1c6"
      },
      "execution_count": 13,
      "outputs": [
        {
          "output_type": "stream",
          "name": "stdout",
          "text": [
            "81.50290730661457\n"
          ]
        }
      ]
    },
    {
      "cell_type": "code",
      "source": [
        "print(resta)"
      ],
      "metadata": {
        "colab": {
          "base_uri": "https://localhost:8080/"
        },
        "id": "mZ87pVjScxey",
        "outputId": "bf7000fb-adca-4e52-a130-cf4b10b5fd42"
      },
      "execution_count": 14,
      "outputs": [
        {
          "output_type": "stream",
          "name": "stdout",
          "text": [
            "0.0\n"
          ]
        }
      ]
    },
    {
      "cell_type": "code",
      "source": [
        "print(theta)"
      ],
      "metadata": {
        "colab": {
          "base_uri": "https://localhost:8080/"
        },
        "id": "JP1uqq7bc0vw",
        "outputId": "7658c9a6-4991-4631-af60-0eb958a5d06b"
      },
      "execution_count": 15,
      "outputs": [
        {
          "output_type": "stream",
          "name": "stdout",
          "text": [
            "[-59 189 186 179 149 289]\n"
          ]
        }
      ]
    },
    {
      "cell_type": "code",
      "source": [
        "plt.figure()\n",
        "plt.scatter(x=list(range(0, len(J))), y = J)\n",
        "plt.show()"
      ],
      "metadata": {
        "colab": {
          "base_uri": "https://localhost:8080/",
          "height": 265
        },
        "id": "Imi16h69d8A8",
        "outputId": "dc454383-b98f-461c-a4e1-2cd06fc6f7c2"
      },
      "execution_count": 16,
      "outputs": [
        {
          "output_type": "display_data",
          "data": {
            "text/plain": [
              "<Figure size 432x288 with 1 Axes>"
            ],
            "image/png": "[encoded data removed]"
          },
          "metadata": {
            "needs_background": "light"
          }
        }
      ]
    }
  ]
}