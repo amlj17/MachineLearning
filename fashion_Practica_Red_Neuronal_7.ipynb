{
  "nbformat": 4,
  "nbformat_minor": 0,
  "metadata": {
    "colab": {
      "provenance": [],
      "collapsed_sections": []
    },
    "kernelspec": {
      "name": "python3",
      "display_name": "Python 3"
    },
    "language_info": {
      "name": "python"
    }
  },
  "cells": [
    {
      "cell_type": "code",
      "execution_count": null,
      "metadata": {
        "id": "nYWhCHPUIJNR",
        "colab": {
          "base_uri": "https://localhost:8080/"
        },
        "outputId": "666e3ed9-0616-4989-d1c1-c0de8a5eee35"
      },
      "outputs": [
        {
          "output_type": "stream",
          "name": "stdout",
          "text": [
            "2.9.2\n"
          ]
        }
      ],
      "source": [
        "# TensorFlow and tf.keras\n",
        "import tensorflow as tf\n",
        "from tensorflow import keras\n",
        "# Helper libraries\n",
        "import numpy as np\n",
        "import matplotlib.pyplot as plt\n",
        "\n",
        "print(tf.__version__)"
      ]
    },
    {
      "cell_type": "code",
      "source": [
        "fashion_mnist = tf.keras.datasets.fashion_mnist\n",
        "\n",
        "(train_images, train_labels), (test_images, test_labels) = fashion_mnist.load_data()"
      ],
      "metadata": {
        "id": "J8x368m-IMFG",
        "colab": {
          "base_uri": "https://localhost:8080/"
        },
        "outputId": "50cc53ef-0385-4dc9-a9d7-0d1e6d7de00c"
      },
      "execution_count": null,
      "outputs": [
        {
          "output_type": "stream",
          "name": "stdout",
          "text": [
            "Downloading data from https://storage.googleapis.com/tensorflow/tf-keras-datasets/train-labels-idx1-ubyte.gz\n",
            "29515/29515 [==============================] - 0s 0us/step\n",
            "Downloading data from https://storage.googleapis.com/tensorflow/tf-keras-datasets/train-images-idx3-ubyte.gz\n",
            "26421880/26421880 [==============================] - 0s 0us/step\n",
            "Downloading data from https://storage.googleapis.com/tensorflow/tf-keras-datasets/t10k-labels-idx1-ubyte.gz\n",
            "5148/5148 [==============================] - 0s 0us/step\n",
            "Downloading data from https://storage.googleapis.com/tensorflow/tf-keras-datasets/t10k-images-idx3-ubyte.gz\n",
            "4422102/4422102 [==============================] - 0s 0us/step\n"
          ]
        }
      ]
    },
    {
      "cell_type": "code",
      "source": [
        "class_names = ['T-shirt/top', 'Trouser', 'Pullover', 'Dress', 'Coat',\n",
        "               'Sandal', 'Shirt', 'Sneaker', 'Bag', 'Ankle boot']"
      ],
      "metadata": {
        "id": "TJc7rMKQIOHt"
      },
      "execution_count": null,
      "outputs": []
    },
    {
      "cell_type": "code",
      "source": [
        "train_images.shape"
      ],
      "metadata": {
        "id": "U4qvaQ9WIQMX",
        "colab": {
          "base_uri": "https://localhost:8080/"
        },
        "outputId": "ab79b5d8-d6c7-4eea-f62b-9c2063aa95bd"
      },
      "execution_count": null,
      "outputs": [
        {
          "output_type": "execute_result",
          "data": {
            "text/plain": [
              "(60000, 28, 28)"
            ]
          },
          "metadata": {},
          "execution_count": 4
        }
      ]
    },
    {
      "cell_type": "code",
      "source": [
        "len(train_labels)"
      ],
      "metadata": {
        "id": "4nohx6s_IQru",
        "colab": {
          "base_uri": "https://localhost:8080/"
        },
        "outputId": "64e95207-5eb0-4813-9a82-9f17d7219255"
      },
      "execution_count": null,
      "outputs": [
        {
          "output_type": "execute_result",
          "data": {
            "text/plain": [
              "60000"
            ]
          },
          "metadata": {},
          "execution_count": 5
        }
      ]
    },
    {
      "cell_type": "code",
      "source": [
        "train_labels"
      ],
      "metadata": {
        "id": "cu2N_QDeITj7",
        "colab": {
          "base_uri": "https://localhost:8080/"
        },
        "outputId": "6902864b-b517-40ec-c3b9-9207cb422b3f"
      },
      "execution_count": null,
      "outputs": [
        {
          "output_type": "execute_result",
          "data": {
            "text/plain": [
              "array([9, 0, 0, ..., 3, 0, 5], dtype=uint8)"
            ]
          },
          "metadata": {},
          "execution_count": 6
        }
      ]
    },
    {
      "cell_type": "code",
      "source": [
        "test_images.shape"
      ],
      "metadata": {
        "id": "IRLEzVJ2IUxG",
        "colab": {
          "base_uri": "https://localhost:8080/"
        },
        "outputId": "3d1bc413-b2d3-41b2-d56b-1c04de17be77"
      },
      "execution_count": null,
      "outputs": [
        {
          "output_type": "execute_result",
          "data": {
            "text/plain": [
              "(10000, 28, 28)"
            ]
          },
          "metadata": {},
          "execution_count": 7
        }
      ]
    },
    {
      "cell_type": "code",
      "source": [
        "test_images.shape"
      ],
      "metadata": {
        "id": "PNE7byqtIWFc",
        "colab": {
          "base_uri": "https://localhost:8080/"
        },
        "outputId": "2ec2e59e-8f8a-4df7-ef23-a603d5c3900a"
      },
      "execution_count": null,
      "outputs": [
        {
          "output_type": "execute_result",
          "data": {
            "text/plain": [
              "(10000, 28, 28)"
            ]
          },
          "metadata": {},
          "execution_count": 8
        }
      ]
    },
    {
      "cell_type": "code",
      "source": [
        "train_images = train_images / 255.0\n",
        "\n",
        "test_images = test_images / 255.0"
      ],
      "metadata": {
        "id": "g-yybdMPIYia"
      },
      "execution_count": null,
      "outputs": []
    },
    {
      "cell_type": "code",
      "source": [
        "#Neuronas\n",
        "#Capa de entrada\n",
        "model = keras.models.Sequential() #un modelo secuencial\n",
        "model.add(keras.layers.Flatten(input_shape = (28, 28)))\n",
        "\n",
        "#Capa oculta\n",
        "model.add(keras.layers.Dense(128, kernel_initializer = 'he_normal', activation = 'relu')) #1er capa oculta\n",
        "model.add(keras.layers.Dropout(0.2))\n",
        "\n",
        "#Capa de Salida\n",
        "model.add(keras.layers.Dense(10, activation = 'softmax'))"
      ],
      "metadata": {
        "id": "o6xVLNKIZRsb"
      },
      "execution_count": null,
      "outputs": []
    },
    {
      "cell_type": "code",
      "source": [
        "model.summary()"
      ],
      "metadata": {
        "colab": {
          "base_uri": "https://localhost:8080/"
        },
        "id": "wT6CIpgYa7iB",
        "outputId": "ecd5e6a5-0e6a-4a17-bdb6-523cadb8365f"
      },
      "execution_count": null,
      "outputs": [
        {
          "output_type": "stream",
          "name": "stdout",
          "text": [
            "Model: \"sequential_2\"\n",
            "_________________________________________________________________\n",
            " Layer (type)                Output Shape              Param #   \n",
            "=================================================================\n",
            " flatten_2 (Flatten)         (None, 784)               0         \n",
            "                                                                 \n",
            " dense_2 (Dense)             (None, 128)               100480    \n",
            "                                                                 \n",
            " dropout (Dropout)           (None, 128)               0         \n",
            "                                                                 \n",
            " dense_3 (Dense)             (None, 10)                1290      \n",
            "                                                                 \n",
            "=================================================================\n",
            "Total params: 101,770\n",
            "Trainable params: 101,770\n",
            "Non-trainable params: 0\n",
            "_________________________________________________________________\n"
          ]
        }
      ]
    },
    {
      "cell_type": "code",
      "source": [
        "#Compilar el modelo\n",
        "model.compile(loss = 'sparse_categorical_crossentropy', optimizer = 'sgd', metrics = ['accuracy'])"
      ],
      "metadata": {
        "id": "c0bFfNBFa1c1"
      },
      "execution_count": null,
      "outputs": []
    },
    {
      "cell_type": "code",
      "source": [
        "#Ajuste del modelo\n",
        "history = model.fit(train_images, train_labels, epochs = 15, validation_data = (test_images, test_labels), batch_size=1000)"
      ],
      "metadata": {
        "colab": {
          "base_uri": "https://localhost:8080/"
        },
        "id": "f2kaKbOvbHe7",
        "outputId": "4b316a1e-d842-4e8b-b4af-f3cfcfc23467"
      },
      "execution_count": null,
      "outputs": [
        {
          "output_type": "stream",
          "name": "stdout",
          "text": [
            "Epoch 1/15\n",
            "60/60 [==============================] - 2s 21ms/step - loss: 1.9590 - accuracy: 0.3209 - val_loss: 1.5707 - val_accuracy: 0.5737\n",
            "Epoch 2/15\n",
            "60/60 [==============================] - 1s 18ms/step - loss: 1.4383 - accuracy: 0.5590 - val_loss: 1.2508 - val_accuracy: 0.6452\n",
            "Epoch 3/15\n",
            "60/60 [==============================] - 1s 18ms/step - loss: 1.2079 - accuracy: 0.6175 - val_loss: 1.0806 - val_accuracy: 0.6711\n",
            "Epoch 4/15\n",
            "60/60 [==============================] - 1s 17ms/step - loss: 1.0734 - accuracy: 0.6526 - val_loss: 0.9778 - val_accuracy: 0.6892\n",
            "Epoch 5/15\n",
            "60/60 [==============================] - 1s 17ms/step - loss: 0.9901 - accuracy: 0.6743 - val_loss: 0.9101 - val_accuracy: 0.7035\n",
            "Epoch 6/15\n",
            "60/60 [==============================] - 1s 17ms/step - loss: 0.9321 - accuracy: 0.6892 - val_loss: 0.8617 - val_accuracy: 0.7159\n",
            "Epoch 7/15\n",
            "60/60 [==============================] - 1s 17ms/step - loss: 0.8872 - accuracy: 0.7035 - val_loss: 0.8252 - val_accuracy: 0.7260\n",
            "Epoch 8/15\n",
            "60/60 [==============================] - 1s 17ms/step - loss: 0.8527 - accuracy: 0.7160 - val_loss: 0.7958 - val_accuracy: 0.7340\n",
            "Epoch 9/15\n",
            "60/60 [==============================] - 1s 17ms/step - loss: 0.8242 - accuracy: 0.7232 - val_loss: 0.7717 - val_accuracy: 0.7446\n",
            "Epoch 10/15\n",
            "60/60 [==============================] - 1s 19ms/step - loss: 0.7993 - accuracy: 0.7296 - val_loss: 0.7513 - val_accuracy: 0.7480\n",
            "Epoch 11/15\n",
            "60/60 [==============================] - 2s 26ms/step - loss: 0.7794 - accuracy: 0.7373 - val_loss: 0.7341 - val_accuracy: 0.7544\n",
            "Epoch 12/15\n",
            "60/60 [==============================] - 1s 23ms/step - loss: 0.7631 - accuracy: 0.7439 - val_loss: 0.7197 - val_accuracy: 0.7599\n",
            "Epoch 13/15\n",
            "60/60 [==============================] - 1s 17ms/step - loss: 0.7485 - accuracy: 0.7477 - val_loss: 0.7059 - val_accuracy: 0.7633\n",
            "Epoch 14/15\n",
            "60/60 [==============================] - 1s 17ms/step - loss: 0.7307 - accuracy: 0.7548 - val_loss: 0.6940 - val_accuracy: 0.7660\n",
            "Epoch 15/15\n",
            "60/60 [==============================] - 1s 18ms/step - loss: 0.7203 - accuracy: 0.7568 - val_loss: 0.6832 - val_accuracy: 0.7690\n"
          ]
        }
      ]
    },
    {
      "cell_type": "code",
      "source": [
        "#Obtener Accuracy\n",
        "model.evaluate(test_images, test_labels)"
      ],
      "metadata": {
        "colab": {
          "base_uri": "https://localhost:8080/"
        },
        "id": "ruCQRyIhb9Zi",
        "outputId": "9085f408-b52c-4803-b744-e331ebc9bba3"
      },
      "execution_count": null,
      "outputs": [
        {
          "output_type": "stream",
          "name": "stdout",
          "text": [
            "313/313 [==============================] - 1s 2ms/step - loss: 0.6832 - accuracy: 0.7690\n"
          ]
        },
        {
          "output_type": "execute_result",
          "data": {
            "text/plain": [
              "[0.6831930875778198, 0.7689999938011169]"
            ]
          },
          "metadata": {},
          "execution_count": 17
        }
      ]
    },
    {
      "cell_type": "markdown",
      "source": [
        "Para esta primer red, el accuracy es de 0.7690"
      ],
      "metadata": {
        "id": "_n910IrecFty"
      }
    },
    {
      "cell_type": "markdown",
      "source": [
        "**Nuestra Neurona**"
      ],
      "metadata": {
        "id": "Fru-NSm9c1cx"
      }
    },
    {
      "cell_type": "code",
      "source": [
        "#Nuestra propia neurona\n",
        "#Capa de entrada\n",
        "model = keras.models.Sequential() #un modelo secuencial\n",
        "model.add(keras.layers.Flatten(input_shape = (28, 28)))\n",
        "\n",
        "#Capa oculta 1\n",
        "model.add(keras.layers.Dense(256, kernel_initializer = 'he_normal', activation = 'relu')) #1er capa oculta\n",
        "model.add(keras.layers.Dropout(0.2))\n",
        "\n",
        "#capa oculta 2\n",
        "model.add(keras.layers.Dense(64, kernel_initializer = 'he_normal', activation = 'relu')) #1er capa oculta\n",
        "model.add(keras.layers.Dropout(0.2))\n",
        "\n",
        "#Capa de Salida\n",
        "model.add(keras.layers.Dense(10, activation = 'softmax'))"
      ],
      "metadata": {
        "id": "TmO0F5sLcM00"
      },
      "execution_count": null,
      "outputs": []
    },
    {
      "cell_type": "code",
      "source": [
        "#Compilar el modelo\n",
        "model.compile(loss = 'sparse_categorical_crossentropy', optimizer = 'adadelta', metrics = ['accuracy'])"
      ],
      "metadata": {
        "id": "4dh2PTjGcpbl"
      },
      "execution_count": null,
      "outputs": []
    },
    {
      "cell_type": "code",
      "source": [
        "#Ajuste del modelo\n",
        "history = model.fit(train_images, train_labels, epochs = 30, validation_data = (test_images, test_labels), batch_size=1000)"
      ],
      "metadata": {
        "colab": {
          "base_uri": "https://localhost:8080/"
        },
        "id": "GoY0uLHpcqX1",
        "outputId": "af4bf99a-26ef-4f97-a1c9-930ee82f668c"
      },
      "execution_count": null,
      "outputs": [
        {
          "output_type": "stream",
          "name": "stdout",
          "text": [
            "Epoch 1/30\n",
            "60/60 [==============================] - 2s 34ms/step - loss: 0.2179 - accuracy: 0.9205 - val_loss: 0.3026 - val_accuracy: 0.8928\n",
            "Epoch 2/30\n",
            "60/60 [==============================] - 2s 31ms/step - loss: 0.2163 - accuracy: 0.9206 - val_loss: 0.3019 - val_accuracy: 0.8934\n",
            "Epoch 3/30\n",
            "60/60 [==============================] - 2s 30ms/step - loss: 0.2135 - accuracy: 0.9217 - val_loss: 0.3014 - val_accuracy: 0.8940\n",
            "Epoch 4/30\n",
            "60/60 [==============================] - 2s 31ms/step - loss: 0.2129 - accuracy: 0.9219 - val_loss: 0.3009 - val_accuracy: 0.8945\n",
            "Epoch 5/30\n",
            "60/60 [==============================] - 2s 30ms/step - loss: 0.2130 - accuracy: 0.9207 - val_loss: 0.3005 - val_accuracy: 0.8949\n",
            "Epoch 6/30\n",
            "60/60 [==============================] - 2s 30ms/step - loss: 0.2130 - accuracy: 0.9221 - val_loss: 0.3002 - val_accuracy: 0.8953\n",
            "Epoch 7/30\n",
            "60/60 [==============================] - 2s 30ms/step - loss: 0.2122 - accuracy: 0.9219 - val_loss: 0.2998 - val_accuracy: 0.8953\n",
            "Epoch 8/30\n",
            "60/60 [==============================] - 2s 30ms/step - loss: 0.2109 - accuracy: 0.9221 - val_loss: 0.2996 - val_accuracy: 0.8953\n",
            "Epoch 9/30\n",
            "60/60 [==============================] - 2s 30ms/step - loss: 0.2121 - accuracy: 0.9213 - val_loss: 0.2993 - val_accuracy: 0.8953\n",
            "Epoch 10/30\n",
            "60/60 [==============================] - 2s 31ms/step - loss: 0.2098 - accuracy: 0.9226 - val_loss: 0.2991 - val_accuracy: 0.8955\n",
            "Epoch 11/30\n",
            "60/60 [==============================] - 2s 30ms/step - loss: 0.2101 - accuracy: 0.9227 - val_loss: 0.2989 - val_accuracy: 0.8954\n",
            "Epoch 12/30\n",
            "60/60 [==============================] - 2s 30ms/step - loss: 0.2098 - accuracy: 0.9228 - val_loss: 0.2987 - val_accuracy: 0.8954\n",
            "Epoch 13/30\n",
            "60/60 [==============================] - 2s 30ms/step - loss: 0.2081 - accuracy: 0.9241 - val_loss: 0.2986 - val_accuracy: 0.8956\n",
            "Epoch 14/30\n",
            "60/60 [==============================] - 2s 31ms/step - loss: 0.2089 - accuracy: 0.9238 - val_loss: 0.2984 - val_accuracy: 0.8956\n",
            "Epoch 15/30\n",
            "60/60 [==============================] - 2s 31ms/step - loss: 0.2085 - accuracy: 0.9235 - val_loss: 0.2983 - val_accuracy: 0.8957\n",
            "Epoch 16/30\n",
            "60/60 [==============================] - 2s 32ms/step - loss: 0.2086 - accuracy: 0.9229 - val_loss: 0.2981 - val_accuracy: 0.8956\n",
            "Epoch 17/30\n",
            "60/60 [==============================] - 2s 31ms/step - loss: 0.2069 - accuracy: 0.9244 - val_loss: 0.2980 - val_accuracy: 0.8956\n",
            "Epoch 18/30\n",
            "60/60 [==============================] - 2s 31ms/step - loss: 0.2071 - accuracy: 0.9234 - val_loss: 0.2979 - val_accuracy: 0.8958\n",
            "Epoch 19/30\n",
            "60/60 [==============================] - 2s 31ms/step - loss: 0.2085 - accuracy: 0.9237 - val_loss: 0.2978 - val_accuracy: 0.8957\n",
            "Epoch 20/30\n",
            "60/60 [==============================] - 2s 31ms/step - loss: 0.2071 - accuracy: 0.9240 - val_loss: 0.2977 - val_accuracy: 0.8958\n",
            "Epoch 21/30\n",
            "60/60 [==============================] - 2s 32ms/step - loss: 0.2065 - accuracy: 0.9244 - val_loss: 0.2976 - val_accuracy: 0.8957\n",
            "Epoch 22/30\n",
            "60/60 [==============================] - 2s 31ms/step - loss: 0.2066 - accuracy: 0.9247 - val_loss: 0.2976 - val_accuracy: 0.8958\n",
            "Epoch 23/30\n",
            "60/60 [==============================] - 2s 30ms/step - loss: 0.2064 - accuracy: 0.9235 - val_loss: 0.2975 - val_accuracy: 0.8957\n",
            "Epoch 24/30\n",
            "60/60 [==============================] - 2s 31ms/step - loss: 0.2060 - accuracy: 0.9240 - val_loss: 0.2975 - val_accuracy: 0.8957\n",
            "Epoch 25/30\n",
            "60/60 [==============================] - 3s 52ms/step - loss: 0.2049 - accuracy: 0.9245 - val_loss: 0.2974 - val_accuracy: 0.8961\n",
            "Epoch 26/30\n",
            "60/60 [==============================] - 2s 31ms/step - loss: 0.2059 - accuracy: 0.9242 - val_loss: 0.2973 - val_accuracy: 0.8959\n",
            "Epoch 27/30\n",
            "60/60 [==============================] - 2s 31ms/step - loss: 0.2064 - accuracy: 0.9253 - val_loss: 0.2973 - val_accuracy: 0.8959\n",
            "Epoch 28/30\n",
            "60/60 [==============================] - 2s 30ms/step - loss: 0.2040 - accuracy: 0.9260 - val_loss: 0.2972 - val_accuracy: 0.8963\n",
            "Epoch 29/30\n",
            "60/60 [==============================] - 2s 30ms/step - loss: 0.2070 - accuracy: 0.9237 - val_loss: 0.2972 - val_accuracy: 0.8962\n",
            "Epoch 30/30\n",
            "60/60 [==============================] - 2s 30ms/step - loss: 0.2056 - accuracy: 0.9253 - val_loss: 0.2971 - val_accuracy: 0.8962\n"
          ]
        }
      ]
    },
    {
      "cell_type": "code",
      "source": [
        "#Obtener Accuracy\n",
        "model.evaluate(test_images, test_labels)"
      ],
      "metadata": {
        "colab": {
          "base_uri": "https://localhost:8080/"
        },
        "id": "MMO6WUXAdKhi",
        "outputId": "887a7eed-e547-4e5c-bc20-c8f7a95e5759"
      },
      "execution_count": null,
      "outputs": [
        {
          "output_type": "stream",
          "name": "stdout",
          "text": [
            "313/313 [==============================] - 1s 3ms/step - loss: 0.2971 - accuracy: 0.8962\n"
          ]
        },
        {
          "output_type": "execute_result",
          "data": {
            "text/plain": [
              "[0.2971252501010895, 0.8962000012397766]"
            ]
          },
          "metadata": {},
          "execution_count": 52
        }
      ]
    },
    {
      "cell_type": "markdown",
      "source": [
        "En el nuevo modelo la primer capa oculta es de 256 neuronas. Se añade una segunda capa oculta de 64 neuronas con función de activación relu y drop out de 0.2. Al compilar el modelo se usa el optimizador ada delta y se usan 30 epochs.\n",
        "\n",
        "El accuracy de nuestro modelo es de 0.8962.\n",
        "\n",
        "El accuracy mejora de 0.7690 a 0.8962\n",
        "\n",
        "Un incremento de 0.1272 puntos\n",
        "\n"
      ],
      "metadata": {
        "id": "jVXj6C4OgaWr"
      }
    }
  ]
}