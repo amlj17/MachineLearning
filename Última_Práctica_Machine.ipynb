{
  "nbformat": 4,
  "nbformat_minor": 0,
  "metadata": {
    "colab": {
      "provenance": []
    },
    "kernelspec": {
      "name": "python3",
      "display_name": "Python 3"
    },
    "language_info": {
      "name": "python"
    }
  },
  "cells": [
    {
      "cell_type": "code",
      "execution_count": null,
      "metadata": {
        "id": "NShyVbv_h-qZ"
      },
      "outputs": [],
      "source": [
        "import tensorflow as tf\n",
        "from tensorflow import keras\n",
        "import random\n",
        "import numpy as np\n",
        "import pandas as pd\n",
        "from sklearn import datasets\n",
        "from sklearn.model_selection import train_test_split\n",
        "from sklearn.linear_model import LogisticRegression\n",
        "from sklearn import preprocessing\n",
        "from sklearn.metrics import accuracy_score, classification_report, confusion_matrix, f1_score\n",
        "from sklearn.decomposition import PCA\n",
        "from keras.utils import to_categorical"
      ]
    },
    {
      "cell_type": "code",
      "source": [
        "cancer = datasets.load_breast_cancer()\n",
        "X = cancer.data\n",
        "y = cancer.target"
      ],
      "metadata": {
        "id": "qTM8cYvhiyec"
      },
      "execution_count": null,
      "outputs": []
    },
    {
      "cell_type": "code",
      "source": [
        "X_train, X_test, y_train, y_test = train_test_split(X, y, test_size=0.20, random_state=5)"
      ],
      "metadata": {
        "id": "k72iSs8bjVFh"
      },
      "execution_count": null,
      "outputs": []
    },
    {
      "cell_type": "markdown",
      "source": [
        "Regresión Logistica Sin PCA"
      ],
      "metadata": {
        "id": "n0JDolqQrIfT"
      }
    },
    {
      "cell_type": "code",
      "source": [
        "model = LogisticRegression(max_iter=5000)\n",
        "model.fit(X_train, y_train)\n",
        "y_pred = model.predict(X_test)\n",
        "f1 = f1_score(y_test, y_pred)"
      ],
      "metadata": {
        "id": "rJKv9SHapdzt"
      },
      "execution_count": null,
      "outputs": []
    },
    {
      "cell_type": "code",
      "source": [
        "print(classification_report(y_test, y_pred))"
      ],
      "metadata": {
        "colab": {
          "base_uri": "https://localhost:8080/"
        },
        "id": "-NXCYVbuqzrD",
        "outputId": "604959d2-e469-4db6-bbee-3e5988ea90f8"
      },
      "execution_count": null,
      "outputs": [
        {
          "output_type": "stream",
          "name": "stdout",
          "text": [
            "              precision    recall  f1-score   support\n",
            "\n",
            "           0       0.98      0.94      0.96        48\n",
            "           1       0.96      0.98      0.97        66\n",
            "\n",
            "    accuracy                           0.96       114\n",
            "   macro avg       0.97      0.96      0.96       114\n",
            "weighted avg       0.97      0.96      0.96       114\n",
            "\n"
          ]
        }
      ]
    },
    {
      "cell_type": "markdown",
      "source": [
        "Regresion logistica con PCA"
      ],
      "metadata": {
        "id": "QrpBgw5Aq52l"
      }
    },
    {
      "cell_type": "code",
      "source": [
        "pca = PCA(n_components = 0.95)\n",
        "X_PCA = pca.fit_transform(X)"
      ],
      "metadata": {
        "id": "EZ_KdzvKq9qz"
      },
      "execution_count": null,
      "outputs": []
    },
    {
      "cell_type": "code",
      "source": [
        "X_train, X_test, y_train, y_test = train_test_split(X_PCA, y, test_size=0.20, random_state=5)"
      ],
      "metadata": {
        "id": "uozSVU45rAXP"
      },
      "execution_count": null,
      "outputs": []
    },
    {
      "cell_type": "code",
      "source": [
        "model = LogisticRegression(max_iter=5000)\n",
        "model.fit(X_train, y_train)\n",
        "y_pred = model.predict(X_test)\n",
        "f1 = f1_score(y_test, y_pred)"
      ],
      "metadata": {
        "id": "mcdmPJ1Zr6CS"
      },
      "execution_count": null,
      "outputs": []
    },
    {
      "cell_type": "code",
      "source": [
        "print(classification_report(y_test, y_pred))"
      ],
      "metadata": {
        "colab": {
          "base_uri": "https://localhost:8080/"
        },
        "id": "n63EV28mr7V7",
        "outputId": "1090529b-ab65-4c19-f72b-558577c9bbd0"
      },
      "execution_count": null,
      "outputs": [
        {
          "output_type": "stream",
          "name": "stdout",
          "text": [
            "              precision    recall  f1-score   support\n",
            "\n",
            "           0       0.98      0.85      0.91        48\n",
            "           1       0.90      0.98      0.94        66\n",
            "\n",
            "    accuracy                           0.93       114\n",
            "   macro avg       0.94      0.92      0.93       114\n",
            "weighted avg       0.93      0.93      0.93       114\n",
            "\n"
          ]
        }
      ]
    },
    {
      "cell_type": "markdown",
      "source": [
        "Redes neuronales sin PCA"
      ],
      "metadata": {
        "id": "aBbCOFOdv6wZ"
      }
    },
    {
      "cell_type": "code",
      "source": [
        "X_train, X_test, y_train, y_test = train_test_split(X, y, test_size=0.20, random_state=5)"
      ],
      "metadata": {
        "id": "OrVjBUUP6Yme"
      },
      "execution_count": null,
      "outputs": []
    },
    {
      "cell_type": "code",
      "source": [
        "#Neuronas\n",
        "#Capa de entrada\n",
        "model = keras.models.Sequential() #un modelo secuencial\n",
        "model.add(keras.layers.Flatten(input_shape = (30,)))\n",
        "\n",
        "#Capa oculta 1\n",
        "model.add(keras.layers.Dense(128, kernel_initializer = 'he_normal', activation = 'relu'))\n",
        "model.add(keras.layers.Dropout(0.2))\n",
        "\n",
        "#Capa oculta 2\n",
        "model.add(keras.layers.Dense(64, kernel_initializer = 'he_normal', activation = 'relu'))\n",
        "model.add(keras.layers.Dropout(0.2))\n",
        "\n",
        "#Capa oculta 3\n",
        "model.add(keras.layers.Dense(32, kernel_initializer = 'he_normal', activation = 'relu'))\n",
        "model.add(keras.layers.Dropout(0.2))\n",
        "\n",
        "#Capa de Salida\n",
        "model.add(keras.layers.Dense(2, activation = 'softmax'))"
      ],
      "metadata": {
        "id": "S4V5rUtQ7L4E"
      },
      "execution_count": null,
      "outputs": []
    },
    {
      "cell_type": "code",
      "source": [
        "model.compile(loss = 'sparse_categorical_crossentropy', optimizer = 'adam', metrics = ['accuracy'])"
      ],
      "metadata": {
        "id": "kXGlM34I7TrP"
      },
      "execution_count": null,
      "outputs": []
    },
    {
      "cell_type": "code",
      "source": [
        "callback = tf.keras.callbacks.EarlyStopping(monitor = 'accuracy', patience = 10)"
      ],
      "metadata": {
        "id": "t2BtQmQHYYgD"
      },
      "execution_count": null,
      "outputs": []
    },
    {
      "cell_type": "code",
      "source": [
        "history = model.fit(X_train, y_train, epochs =100 , callbacks=[callback])"
      ],
      "metadata": {
        "id": "gif4Er7u7WIr"
      },
      "execution_count": null,
      "outputs": []
    },
    {
      "cell_type": "code",
      "source": [
        "y_pred = model.predict(X_test)"
      ],
      "metadata": {
        "id": "aMduOxSEcEx-",
        "colab": {
          "base_uri": "https://localhost:8080/"
        },
        "outputId": "3cabedc8-b382-456d-87d5-86aa42b6e593"
      },
      "execution_count": null,
      "outputs": [
        {
          "output_type": "stream",
          "name": "stdout",
          "text": [
            "4/4 [==============================] - 0s 3ms/step\n"
          ]
        }
      ]
    },
    {
      "cell_type": "code",
      "source": [
        "y_pred_bool = np.argmax(y_pred, axis=1)"
      ],
      "metadata": {
        "id": "KiSVc4ua8Xky"
      },
      "execution_count": null,
      "outputs": []
    },
    {
      "cell_type": "code",
      "source": [
        "print(classification_report(y_test, y_pred_bool))"
      ],
      "metadata": {
        "id": "z5Z37w_PcWLB",
        "colab": {
          "base_uri": "https://localhost:8080/"
        },
        "outputId": "2d1414ea-1cff-415d-cc56-3aa265573c0d"
      },
      "execution_count": null,
      "outputs": [
        {
          "output_type": "stream",
          "name": "stdout",
          "text": [
            "              precision    recall  f1-score   support\n",
            "\n",
            "           0       1.00      0.42      0.59        48\n",
            "           1       0.70      1.00      0.82        66\n",
            "\n",
            "    accuracy                           0.75       114\n",
            "   macro avg       0.85      0.71      0.71       114\n",
            "weighted avg       0.83      0.75      0.73       114\n",
            "\n"
          ]
        }
      ]
    },
    {
      "cell_type": "markdown",
      "source": [
        "Redes Neuronales con PCA"
      ],
      "metadata": {
        "id": "UPZ7YKTid3g3"
      }
    },
    {
      "cell_type": "code",
      "source": [
        "X_train, X_test, y_train, y_test = train_test_split(X_PCA, y, test_size=0.20, random_state=5)"
      ],
      "metadata": {
        "id": "gs-Ckc7qd1TC"
      },
      "execution_count": null,
      "outputs": []
    },
    {
      "cell_type": "code",
      "source": [
        "X_PCA.shape"
      ],
      "metadata": {
        "colab": {
          "base_uri": "https://localhost:8080/"
        },
        "id": "3_2G-IF6epwl",
        "outputId": "55bce441-7db2-4cbc-cfa0-1acf6ac4d7ec"
      },
      "execution_count": null,
      "outputs": [
        {
          "output_type": "execute_result",
          "data": {
            "text/plain": [
              "(569, 1)"
            ]
          },
          "metadata": {},
          "execution_count": 56
        }
      ]
    },
    {
      "cell_type": "code",
      "source": [
        "#Neuronas\n",
        "#Capa de entrada\n",
        "model = keras.models.Sequential() #un modelo secuencial\n",
        "model.add(keras.layers.Flatten(input_shape = (1,)))\n",
        "\n",
        "#Capa oculta 1\n",
        "model.add(keras.layers.Dense(128, kernel_initializer = 'he_normal', activation = 'relu'))\n",
        "model.add(keras.layers.Dropout(0.2))\n",
        "\n",
        "#Capa oculta 2\n",
        "model.add(keras.layers.Dense(64, kernel_initializer = 'he_normal', activation = 'relu'))\n",
        "model.add(keras.layers.Dropout(0.2))\n",
        "\n",
        "#Capa oculta 3\n",
        "model.add(keras.layers.Dense(32, kernel_initializer = 'he_normal', activation = 'relu'))\n",
        "model.add(keras.layers.Dropout(0.2))\n",
        "\n",
        "#Capa de Salida\n",
        "model.add(keras.layers.Dense(2, activation = 'softmax'))"
      ],
      "metadata": {
        "id": "WJZk5t_weAPg"
      },
      "execution_count": null,
      "outputs": []
    },
    {
      "cell_type": "code",
      "source": [
        "model.compile(loss = 'sparse_categorical_crossentropy', optimizer = 'adam', metrics = ['accuracy'])"
      ],
      "metadata": {
        "id": "OcwANRxReDRp"
      },
      "execution_count": null,
      "outputs": []
    },
    {
      "cell_type": "code",
      "source": [
        "callback = tf.keras.callbacks.EarlyStopping(monitor = 'accuracy', patience = 10)"
      ],
      "metadata": {
        "id": "DXoDB1j2eF23"
      },
      "execution_count": null,
      "outputs": []
    },
    {
      "cell_type": "code",
      "source": [
        "history = model.fit(X_train, y_train, epochs =100 , callbacks=[callback])"
      ],
      "metadata": {
        "colab": {
          "base_uri": "https://localhost:8080/"
        },
        "id": "ttyS15_BeLk8",
        "outputId": "ca681bcf-c945-42c7-df5f-12a8b1030349"
      },
      "execution_count": null,
      "outputs": [
        {
          "output_type": "stream",
          "name": "stdout",
          "text": [
            "Epoch 1/100\n",
            "15/15 [==============================] - 1s 3ms/step - loss: 166.8985 - accuracy: 0.6791\n",
            "Epoch 2/100\n",
            "15/15 [==============================] - 0s 3ms/step - loss: 54.0470 - accuracy: 0.8901\n",
            "Epoch 3/100\n",
            "15/15 [==============================] - 0s 3ms/step - loss: 46.2066 - accuracy: 0.8945\n",
            "Epoch 4/100\n",
            "15/15 [==============================] - 0s 3ms/step - loss: 49.3990 - accuracy: 0.8703\n",
            "Epoch 5/100\n",
            "15/15 [==============================] - 0s 3ms/step - loss: 40.9927 - accuracy: 0.8484\n",
            "Epoch 6/100\n",
            "15/15 [==============================] - 0s 3ms/step - loss: 28.6919 - accuracy: 0.8571\n",
            "Epoch 7/100\n",
            "15/15 [==============================] - 0s 3ms/step - loss: 30.7793 - accuracy: 0.8659\n",
            "Epoch 8/100\n",
            "15/15 [==============================] - 0s 4ms/step - loss: 28.3442 - accuracy: 0.8549\n",
            "Epoch 9/100\n",
            "15/15 [==============================] - 0s 3ms/step - loss: 23.6604 - accuracy: 0.8484\n",
            "Epoch 10/100\n",
            "15/15 [==============================] - 0s 3ms/step - loss: 18.9809 - accuracy: 0.8549\n",
            "Epoch 11/100\n",
            "15/15 [==============================] - 0s 3ms/step - loss: 18.8524 - accuracy: 0.8505\n",
            "Epoch 12/100\n",
            "15/15 [==============================] - 0s 3ms/step - loss: 16.6550 - accuracy: 0.8659\n",
            "Epoch 13/100\n",
            "15/15 [==============================] - 0s 4ms/step - loss: 13.3161 - accuracy: 0.8681\n"
          ]
        }
      ]
    },
    {
      "cell_type": "code",
      "source": [
        "y_pred = model.predict(X_test)"
      ],
      "metadata": {
        "colab": {
          "base_uri": "https://localhost:8080/"
        },
        "id": "Vm6YkOmheOoq",
        "outputId": "21fa625a-ae88-4b19-a809-e8f7022929cc"
      },
      "execution_count": null,
      "outputs": [
        {
          "output_type": "stream",
          "name": "stdout",
          "text": [
            "4/4 [==============================] - 0s 4ms/step\n"
          ]
        }
      ]
    },
    {
      "cell_type": "code",
      "source": [
        "y_pred_bool = np.argmax(y_pred, axis=1)"
      ],
      "metadata": {
        "id": "ulyg8RANfEC8"
      },
      "execution_count": null,
      "outputs": []
    },
    {
      "cell_type": "code",
      "source": [
        "print(classification_report(y_test, y_pred_bool))"
      ],
      "metadata": {
        "colab": {
          "base_uri": "https://localhost:8080/"
        },
        "id": "7UXHjRmXfMkn",
        "outputId": "18ce9798-1fe7-4965-b03e-9f5693881685"
      },
      "execution_count": null,
      "outputs": [
        {
          "output_type": "stream",
          "name": "stdout",
          "text": [
            "              precision    recall  f1-score   support\n",
            "\n",
            "           0       1.00      0.85      0.92        48\n",
            "           1       0.90      1.00      0.95        66\n",
            "\n",
            "    accuracy                           0.94       114\n",
            "   macro avg       0.95      0.93      0.94       114\n",
            "weighted avg       0.94      0.94      0.94       114\n",
            "\n"
          ]
        }
      ]
    },
    {
      "cell_type": "markdown",
      "source": [
        "Nota: Esta raro que PCA reduce a 1 dimension"
      ],
      "metadata": {
        "id": "oBpnPhscfTst"
      }
    }
  ]
}